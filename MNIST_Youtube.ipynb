{
  "nbformat": 4,
  "nbformat_minor": 0,
  "metadata": {
    "colab": {
      "name": "MNIST_Youtube.ipynb",
      "provenance": [],
      "collapsed_sections": [],
      "authorship_tag": "ABX9TyM1TdcTubyDq4I7q53MmVOZ",
      "include_colab_link": true
    },
    "kernelspec": {
      "name": "python3",
      "display_name": "Python 3"
    },
    "accelerator": "GPU"
  },
  "cells": [
    {
      "cell_type": "markdown",
      "metadata": {
        "id": "view-in-github",
        "colab_type": "text"
      },
      "source": [
        "<a href=\"https://colab.research.google.com/github/homembit/AI_Tutorials/blob/main/MNIST_Youtube.ipynb\" target=\"_parent\"><img src=\"https://colab.research.google.com/assets/colab-badge.svg\" alt=\"Open In Colab\"/></a>"
      ]
    },
    {
      "cell_type": "markdown",
      "metadata": {
        "id": "Mib6NrVSQSYs"
      },
      "source": [
        "# **MNIST - O Hello World de AI :)**\n",
        "\n",
        "Uma boa visualização do que vamos fazer, interativa pode ser encontrada nesse site\n",
        "http://scs.ryerson.ca/~aharley/vis/conv/\n",
        "\n",
        "A topologia básica da rede que vamos montar é a [LeNet](https://en.wikipedia.org/wiki/LeNet), e pode ser simplificada assim:\n",
        "\n",
        "![alt text](https://upload.wikimedia.org/wikipedia/commons/6/63/Typical_cnn.png)\n"
      ]
    },
    {
      "cell_type": "markdown",
      "metadata": {
        "id": "nHzoyOOW7Hps"
      },
      "source": [
        "# Montar nossa CNN e realizar o treinamento\n",
        "\n",
        "O Keras pode importar muitas topologias prontas, mas vamos construir essa na mão.\n",
        "\n",
        "Iniciamos importando um modelo de rede neural [sequencial](https://keras.io/models/sequential/).\n"
      ]
    },
    {
      "cell_type": "code",
      "metadata": {
        "id": "TYkD95lhprmk"
      },
      "source": [
        "from tensorflow.keras.models import Sequential"
      ],
      "execution_count": 1,
      "outputs": []
    },
    {
      "cell_type": "markdown",
      "metadata": {
        "id": "XCIe7uROpvsV"
      },
      "source": [
        "Documentação das camadas principais do Keras https://keras.io/layers/core/\n",
        "\n",
        "> **Dense**: Vamos usar uma camada densa como camada de classificação\n",
        "> \n",
        "> **Flatten**: Camada para transformar matriz em vetor\n",
        "> \n",
        "> **Dropout**: Camada para descartar aleatoriamente uma parte dos dados"
      ]
    },
    {
      "cell_type": "code",
      "metadata": {
        "id": "OrWWuoxTpzKk"
      },
      "source": [
        "from tensorflow.keras.layers import Dense, Flatten, Dropout"
      ],
      "execution_count": 2,
      "outputs": []
    },
    {
      "cell_type": "markdown",
      "metadata": {
        "id": "try6kp9KqLo5"
      },
      "source": [
        "Documentação das camadas de convolução https://keras.io/layers/convolutional/\n",
        "> **Conv2D**: Camada de convolução de imagens em 2D (nossas imagens com os digitos de entrada, vindo do nosso dataset)\n"
      ]
    },
    {
      "cell_type": "code",
      "metadata": {
        "id": "BFKRK1agqMmf"
      },
      "source": [
        "from tensorflow.keras.layers import Conv2D"
      ],
      "execution_count": 3,
      "outputs": []
    },
    {
      "cell_type": "markdown",
      "metadata": {
        "id": "RwcOjRJvtYwt"
      },
      "source": [
        "Documentação da camada de Pooling: https://keras.io/layers/pooling/\n",
        "> **MaxPooling2D**: Camada para reduzir as matrizes"
      ]
    },
    {
      "cell_type": "code",
      "metadata": {
        "id": "x-PzS7TqtX85"
      },
      "source": [
        "from tensorflow.keras.layers import MaxPooling2D"
      ],
      "execution_count": 4,
      "outputs": []
    },
    {
      "cell_type": "markdown",
      "metadata": {
        "id": "m9qHGoGPtgWx"
      },
      "source": [
        "Funções de utilitários do Keras https://keras.io/utils/"
      ]
    },
    {
      "cell_type": "code",
      "metadata": {
        "id": "g_qEq-gMtgeD"
      },
      "source": [
        "from tensorflow.keras import utils"
      ],
      "execution_count": 5,
      "outputs": []
    },
    {
      "cell_type": "markdown",
      "metadata": {
        "id": "H1quPi1wtu0j"
      },
      "source": [
        "Dataset do MNIST https://keras.io/datasets/\n",
        "Este Dataset tem 60.000 imagens de 28x28 pixels de numeros de 0-9 para treinamento com mais 10.000 imagens para testes "
      ]
    },
    {
      "cell_type": "code",
      "metadata": {
        "id": "bjt3Y7vJtvG3"
      },
      "source": [
        "from tensorflow.keras.datasets import mnist"
      ],
      "execution_count": 6,
      "outputs": []
    },
    {
      "cell_type": "markdown",
      "metadata": {
        "id": "MAgJyZpmt5jg"
      },
      "source": [
        "Otimizador Adam para a descida do gradiente"
      ]
    },
    {
      "cell_type": "code",
      "metadata": {
        "id": "ZH6jGS7ut51U"
      },
      "source": [
        "from tensorflow.keras.optimizers import Adam"
      ],
      "execution_count": 7,
      "outputs": []
    },
    {
      "cell_type": "markdown",
      "metadata": {
        "id": "aA05fz4muAmd"
      },
      "source": [
        "Call backs do Keras para a otimização do treinamento\n",
        ">**ModelCheckpoint**: Grava cada modelo treinado que a obedeça um critério específico\n",
        ">\n",
        ">**EarlyStopping**: Interrompe o treinamento quando um critério é atendido\n",
        ">\n",
        ">**ReduceLROnPlateau**: Reduz o Learning Rate quando está próximo de um ponto de mínimo\n",
        ">\n",
        ">**TensorBoard**: Gera dados para análise e acompanhamento do treinamento no TensoBoard"
      ]
    },
    {
      "cell_type": "code",
      "metadata": {
        "id": "ddEGXdKsuAz6"
      },
      "source": [
        "from tensorflow.keras.callbacks import ModelCheckpoint, EarlyStopping, ReduceLROnPlateau, TensorBoard"
      ],
      "execution_count": 8,
      "outputs": []
    },
    {
      "cell_type": "markdown",
      "metadata": {
        "id": "1STWbzCAveUn"
      },
      "source": [
        "Carrega o DataSet do MNIST data em dois conjuntos: Treinamento (60K imagens) e Testes (10k imagens)"
      ]
    },
    {
      "cell_type": "code",
      "metadata": {
        "id": "wH_EGKP5vekL",
        "outputId": "c753243f-466a-4a64-fb1b-e713907bc0d1",
        "colab": {
          "base_uri": "https://localhost:8080/",
          "height": 51
        }
      },
      "source": [
        "(train_dataset, train_classes),(test_dataset, test_classes) = mnist.load_data()"
      ],
      "execution_count": 9,
      "outputs": [
        {
          "output_type": "stream",
          "text": [
            "Downloading data from https://storage.googleapis.com/tensorflow/tf-keras-datasets/mnist.npz\n",
            "11493376/11490434 [==============================] - 0s 0us/step\n"
          ],
          "name": "stdout"
        }
      ]
    },
    {
      "cell_type": "markdown",
      "metadata": {
        "id": "JaxZJ90GvlL_"
      },
      "source": [
        "Ajusta os datasets para o TensorFlow, reduzindo os canais de imagens de 3 para 1 "
      ]
    },
    {
      "cell_type": "code",
      "metadata": {
        "id": "esymfr9vvlXB"
      },
      "source": [
        "train_dataset = train_dataset.reshape(train_dataset.shape[0], 28, 28, 1)\n",
        "test_dataset = test_dataset.reshape(test_dataset.shape[0], 28, 28, 1)"
      ],
      "execution_count": 10,
      "outputs": []
    },
    {
      "cell_type": "markdown",
      "metadata": {
        "id": "dCQYWyE0wIZg"
      },
      "source": [
        "Converte os dados de int8 para float32"
      ]
    },
    {
      "cell_type": "code",
      "metadata": {
        "id": "hakH5MANwIib"
      },
      "source": [
        "train_dataset = train_dataset.astype('float32')\n",
        "test_dataset = test_dataset.astype('float32')"
      ],
      "execution_count": 11,
      "outputs": []
    },
    {
      "cell_type": "markdown",
      "metadata": {
        "id": "IGgJ5WnFwNYF"
      },
      "source": [
        "Normaliza os dados para acelerar o processamento, reduzindo o tamanho dos números"
      ]
    },
    {
      "cell_type": "code",
      "metadata": {
        "id": "61WZr93XwNgV"
      },
      "source": [
        "train_dataset = train_dataset / 255\n",
        "test_dataset = test_dataset / 255"
      ],
      "execution_count": 12,
      "outputs": []
    },
    {
      "cell_type": "markdown",
      "metadata": {
        "id": "FFKFxebFwbGn"
      },
      "source": [
        "Converte as classes de dados de numérica para categorias"
      ]
    },
    {
      "cell_type": "code",
      "metadata": {
        "id": "wIe6Z0kqwbQv"
      },
      "source": [
        "train_classes = utils.to_categorical(train_classes, 10)\n",
        "test_classes = utils.to_categorical(test_classes, 10)"
      ],
      "execution_count": 13,
      "outputs": []
    },
    {
      "cell_type": "markdown",
      "metadata": {
        "id": "_ObTPXhlwhX3"
      },
      "source": [
        "Cria a Rede Neural Convolucional (Convolutional Neural Network)"
      ]
    },
    {
      "cell_type": "code",
      "metadata": {
        "id": "3eM_QmtKwhkI"
      },
      "source": [
        "cnn = Sequential()"
      ],
      "execution_count": 14,
      "outputs": []
    },
    {
      "cell_type": "markdown",
      "metadata": {
        "id": "ninlynpBwl3P"
      },
      "source": [
        "Adiciona a primeira camada convolucional com 32 filtros e uma janela de convolução de 3x3, com a matriz de entrada com imagens de 28 x 28 pixels (1 canal de cores) e usando ativação ReLu ([Rectified Linear Unit](https://en.wikipedia.org/wiki/Rectifier_(neural_networks)))\n",
        "\n",
        "\n"
      ]
    },
    {
      "cell_type": "code",
      "metadata": {
        "id": "GmJMV0KXwmCa"
      },
      "source": [
        "cnn.add(Conv2D(32, (3,3), input_shape = (28, 28, 1), activation = 'relu'))"
      ],
      "execution_count": 15,
      "outputs": []
    },
    {
      "cell_type": "markdown",
      "metadata": {
        "id": "TTsXer-OyHDv"
      },
      "source": [
        "Reduz o tamanho das matrizes de convolução"
      ]
    },
    {
      "cell_type": "code",
      "metadata": {
        "id": "WAcFWF6fyHM-"
      },
      "source": [
        "cnn.add(MaxPooling2D())"
      ],
      "execution_count": 16,
      "outputs": []
    },
    {
      "cell_type": "markdown",
      "metadata": {
        "id": "2MmcH1A5yOZR"
      },
      "source": [
        "Descarta aleatoriamente 25% das imagens\n",
        "\n",
        "**NOTA:** Altere esse percentual e observe a diferença na acurácia :)"
      ]
    },
    {
      "cell_type": "code",
      "metadata": {
        "id": "VMQ99iOlyOh5"
      },
      "source": [
        "cnn.add(Dropout(0.25))"
      ],
      "execution_count": 17,
      "outputs": []
    },
    {
      "cell_type": "markdown",
      "metadata": {
        "id": "lrVcDBcSyXhV"
      },
      "source": [
        "Transforma a matriz de saída em um vetor para ser processado pela rede neural\n"
      ]
    },
    {
      "cell_type": "code",
      "metadata": {
        "id": "TurmpZxyyXp_"
      },
      "source": [
        "cnn.add(Flatten())"
      ],
      "execution_count": 18,
      "outputs": []
    },
    {
      "cell_type": "markdown",
      "metadata": {
        "id": "ksZVyRonyece"
      },
      "source": [
        "Primeira camada da rede neural, uma camada oculta com 128 neurônios e usando ReLu como ativação "
      ]
    },
    {
      "cell_type": "code",
      "metadata": {
        "id": "uY5AGUXNyepF"
      },
      "source": [
        "cnn.add(Dense(units = 128, activation = 'relu'))"
      ],
      "execution_count": 19,
      "outputs": []
    },
    {
      "cell_type": "markdown",
      "metadata": {
        "id": "AzKYJLADykRz"
      },
      "source": [
        "Descarta aleatoriamente 50% dos resultados\n",
        "\n",
        "**NOTA:** Altere esse percentual e observe a diferença na acurácia :)\n"
      ]
    },
    {
      "cell_type": "code",
      "metadata": {
        "id": "JPZtJPE3ykvx"
      },
      "source": [
        "cnn.add(Dropout(0.5))"
      ],
      "execution_count": 20,
      "outputs": []
    },
    {
      "cell_type": "markdown",
      "metadata": {
        "id": "MU3Llo8tyrjk"
      },
      "source": [
        "**NOTA:** Como exercício aqui, incluir mais camadas ocultas e observar os resultados no tempo de treinamento vs acurácia.\n",
        "\n",
        "Camada de saída com 10 neurônios (um para cada camanda) usando Softmax como função de ativação, dada a natureza do problema matemático"
      ]
    },
    {
      "cell_type": "code",
      "metadata": {
        "id": "BGlEhGxOyrsO"
      },
      "source": [
        "cnn.add(Dense(units = 10, activation = 'softmax'))"
      ],
      "execution_count": 21,
      "outputs": []
    },
    {
      "cell_type": "markdown",
      "metadata": {
        "id": "0RnbECNsy6dK"
      },
      "source": [
        "Compilar a CNN com:\n",
        ">- [Categorical crossentropy](https://keras.io/api/losses/probabilistic_losses/#categoricalcrossentropy-class) como função de perda\n",
        ">- Otimizador [Adam](https://keras.io/api/optimizers/adam/) \n",
        ">- Acurácia como métrica de avaliação (Loss pode ser usado também.. pesquise sobre [Overfitting](https://en.wikipedia.org/wiki/Overfitting) para entender)\n"
      ]
    },
    {
      "cell_type": "code",
      "metadata": {
        "id": "2Sk1iZ8qy6nb"
      },
      "source": [
        "adam = Adam(lr=0.001)\n",
        "cnn.compile(loss = 'categorical_crossentropy', optimizer = adam, metrics = ['accuracy'])"
      ],
      "execution_count": 22,
      "outputs": []
    },
    {
      "cell_type": "markdown",
      "metadata": {
        "id": "m3beqj_szDIv"
      },
      "source": [
        "Setup dos callbacks:\n",
        "\n",
        "Nome do arquivo para o o [ModelCheckPoint](https://keras.io/api/callbacks/model_checkpoint/), um callback que grava os pesos da rede a cada ciclo de treinamento, baseado em critérios."
      ]
    },
    {
      "cell_type": "code",
      "metadata": {
        "id": "G-0MHqH3zDTR"
      },
      "source": [
        "top_layers_file_path=\"MNIST_Model.iv3.hdf5\""
      ],
      "execution_count": 23,
      "outputs": []
    },
    {
      "cell_type": "markdown",
      "metadata": {
        "id": "Ff00oNmqzNxh"
      },
      "source": [
        "Monitorar a loss function e salvar cada vez que ela for menor que a anterior\n",
        "otimiza o treinamento para encontrar o ponto de mínima."
      ]
    },
    {
      "cell_type": "code",
      "metadata": {
        "id": "bRBRcrzxzN7c"
      },
      "source": [
        "checkpoint = ModelCheckpoint(top_layers_file_path, monitor='loss', verbose=1, save_best_only=True, mode='min')"
      ],
      "execution_count": 24,
      "outputs": []
    },
    {
      "cell_type": "markdown",
      "metadata": {
        "id": "xW5N2Lhwzp8k"
      },
      "source": [
        "O [EarlyStopping](https://keras.io/api/callbacks/early_stopping/) informa quantas vezes ele deve tentar reduzir o valor da loss funcion \n",
        "antes de interromper o treinamento. Interessante notar o nome do parâmetro do número de vezes: patience :)\n",
        "\n",
        "**Dica**: Aqui falamos pro Keras  que monitore a loss function, pelo mínimo até que ele não diminua em 5 vezes... como gravamos o checkpoint em cada redução no callback anterior... teremos a melhor versão da rede gravada em disco"
      ]
    },
    {
      "cell_type": "code",
      "metadata": {
        "id": "9rWa4hiqztzd"
      },
      "source": [
        "early = EarlyStopping(monitor=\"loss\", mode=\"min\", patience=30)"
      ],
      "execution_count": 25,
      "outputs": []
    },
    {
      "cell_type": "markdown",
      "metadata": {
        "id": "RE985EZXz-LY"
      },
      "source": [
        "Gera os dados para a análise do treinamento no [TensorBoard](https://keras.io/api/callbacks/tensorboard/)"
      ]
    },
    {
      "cell_type": "code",
      "metadata": {
        "id": "RG-wApUOzqG3",
        "outputId": "3e4d051c-e474-4fd1-cc3f-4d228f18c9ba",
        "colab": {
          "base_uri": "https://localhost:8080/",
          "height": 34
        }
      },
      "source": [
        "tb = TensorBoard(log_dir='./logs', batch_size=128, write_graph=True, update_freq='batch')"
      ],
      "execution_count": 26,
      "outputs": [
        {
          "output_type": "stream",
          "text": [
            "WARNING:tensorflow:`batch_size` is no longer needed in the `TensorBoard` Callback and will be ignored in TensorFlow 2.0.\n"
          ],
          "name": "stdout"
        }
      ]
    },
    {
      "cell_type": "markdown",
      "metadata": {
        "id": "ELAJP3jo2ttN"
      },
      "source": [
        "Pedimos pro Keras reduzir o Learning Rate quando estiver perto de um ponto de\n",
        "mínima... it's magic :) ... não... é matemática mesmo :P"
      ]
    },
    {
      "cell_type": "code",
      "metadata": {
        "id": "oGmSjDnR2t3J"
      },
      "source": [
        "reduce_lr = ReduceLROnPlateau(monitor='loss', factor=0.2, patience=10, min_lr=0.0001)"
      ],
      "execution_count": 27,
      "outputs": []
    },
    {
      "cell_type": "markdown",
      "metadata": {
        "id": "ZQmYz5oK25lz"
      },
      "source": [
        "Executa o treinamento da rede em 50 épocas, validando o resultado com o dataset\n",
        "de treinamento em cada época...\n",
        "\n",
        "**Dica:** Aumente o número de épocas para um número maior, e os dois callbacks que ajustamos anteriormente devem salvar seu cartão de crédito  \n"
      ]
    },
    {
      "cell_type": "code",
      "metadata": {
        "id": "dLJxvNMJ25wF",
        "outputId": "90b8a3e4-250e-4356-c943-742e8e22a849",
        "colab": {
          "base_uri": "https://localhost:8080/",
          "height": 1000
        }
      },
      "source": [
        "cnn.fit(train_dataset, train_classes, batch_size = 128, epochs = 300,\n",
        "        validation_data = (test_dataset, test_classes),\n",
        "        callbacks=[checkpoint, early, reduce_lr, tb])"
      ],
      "execution_count": 28,
      "outputs": [
        {
          "output_type": "stream",
          "text": [
            "Epoch 1/300\n",
            "  1/469 [..............................] - ETA: 0s - loss: 2.3270 - accuracy: 0.0781WARNING:tensorflow:From /usr/local/lib/python3.6/dist-packages/tensorflow/python/ops/summary_ops_v2.py:1277: stop (from tensorflow.python.eager.profiler) is deprecated and will be removed after 2020-07-01.\n",
            "Instructions for updating:\n",
            "use `tf.profiler.experimental.stop` instead.\n",
            "WARNING:tensorflow:Callbacks method `on_train_batch_end` is slow compared to the batch time (batch time: 0.0114s vs `on_train_batch_end` time: 0.0331s). Check your callbacks.\n",
            "469/469 [==============================] - ETA: 0s - loss: 0.3203 - accuracy: 0.9053\n",
            "Epoch 00001: loss improved from inf to 0.32029, saving model to MNIST_Model.iv3.hdf5\n",
            "469/469 [==============================] - 3s 6ms/step - loss: 0.3203 - accuracy: 0.9053 - val_loss: 0.0881 - val_accuracy: 0.9730\n",
            "Epoch 2/300\n",
            "465/469 [============================>.] - ETA: 0s - loss: 0.1250 - accuracy: 0.9633\n",
            "Epoch 00002: loss improved from 0.32029 to 0.12461, saving model to MNIST_Model.iv3.hdf5\n",
            "469/469 [==============================] - 3s 5ms/step - loss: 0.1246 - accuracy: 0.9633 - val_loss: 0.0633 - val_accuracy: 0.9786\n",
            "Epoch 3/300\n",
            "463/469 [============================>.] - ETA: 0s - loss: 0.0961 - accuracy: 0.9717\n",
            "Epoch 00003: loss improved from 0.12461 to 0.09617, saving model to MNIST_Model.iv3.hdf5\n",
            "469/469 [==============================] - 3s 5ms/step - loss: 0.0962 - accuracy: 0.9716 - val_loss: 0.0571 - val_accuracy: 0.9806\n",
            "Epoch 4/300\n",
            "467/469 [============================>.] - ETA: 0s - loss: 0.0833 - accuracy: 0.9751\n",
            "Epoch 00004: loss improved from 0.09617 to 0.08324, saving model to MNIST_Model.iv3.hdf5\n",
            "469/469 [==============================] - 3s 5ms/step - loss: 0.0832 - accuracy: 0.9751 - val_loss: 0.0442 - val_accuracy: 0.9842\n",
            "Epoch 5/300\n",
            "461/469 [============================>.] - ETA: 0s - loss: 0.0721 - accuracy: 0.9777\n",
            "Epoch 00005: loss improved from 0.08324 to 0.07255, saving model to MNIST_Model.iv3.hdf5\n",
            "469/469 [==============================] - 3s 5ms/step - loss: 0.0725 - accuracy: 0.9775 - val_loss: 0.0439 - val_accuracy: 0.9859\n",
            "Epoch 6/300\n",
            "465/469 [============================>.] - ETA: 0s - loss: 0.0652 - accuracy: 0.9802\n",
            "Epoch 00006: loss improved from 0.07255 to 0.06527, saving model to MNIST_Model.iv3.hdf5\n",
            "469/469 [==============================] - 3s 5ms/step - loss: 0.0653 - accuracy: 0.9802 - val_loss: 0.0430 - val_accuracy: 0.9853\n",
            "Epoch 7/300\n",
            "463/469 [============================>.] - ETA: 0s - loss: 0.0587 - accuracy: 0.9811\n",
            "Epoch 00007: loss improved from 0.06527 to 0.05861, saving model to MNIST_Model.iv3.hdf5\n",
            "469/469 [==============================] - 3s 5ms/step - loss: 0.0586 - accuracy: 0.9811 - val_loss: 0.0369 - val_accuracy: 0.9867\n",
            "Epoch 8/300\n",
            "467/469 [============================>.] - ETA: 0s - loss: 0.0514 - accuracy: 0.9835\n",
            "Epoch 00008: loss improved from 0.05861 to 0.05127, saving model to MNIST_Model.iv3.hdf5\n",
            "469/469 [==============================] - 3s 5ms/step - loss: 0.0513 - accuracy: 0.9835 - val_loss: 0.0393 - val_accuracy: 0.9864\n",
            "Epoch 9/300\n",
            "459/469 [============================>.] - ETA: 0s - loss: 0.0504 - accuracy: 0.9839\n",
            "Epoch 00009: loss improved from 0.05127 to 0.05000, saving model to MNIST_Model.iv3.hdf5\n",
            "469/469 [==============================] - 3s 5ms/step - loss: 0.0500 - accuracy: 0.9840 - val_loss: 0.0388 - val_accuracy: 0.9870\n",
            "Epoch 10/300\n",
            "467/469 [============================>.] - ETA: 0s - loss: 0.0462 - accuracy: 0.9850\n",
            "Epoch 00010: loss improved from 0.05000 to 0.04613, saving model to MNIST_Model.iv3.hdf5\n",
            "469/469 [==============================] - 3s 5ms/step - loss: 0.0461 - accuracy: 0.9851 - val_loss: 0.0382 - val_accuracy: 0.9875\n",
            "Epoch 11/300\n",
            "462/469 [============================>.] - ETA: 0s - loss: 0.0439 - accuracy: 0.9860\n",
            "Epoch 00011: loss improved from 0.04613 to 0.04382, saving model to MNIST_Model.iv3.hdf5\n",
            "469/469 [==============================] - 2s 5ms/step - loss: 0.0438 - accuracy: 0.9860 - val_loss: 0.0363 - val_accuracy: 0.9875\n",
            "Epoch 12/300\n",
            "467/469 [============================>.] - ETA: 0s - loss: 0.0401 - accuracy: 0.9862\n",
            "Epoch 00012: loss improved from 0.04382 to 0.03999, saving model to MNIST_Model.iv3.hdf5\n",
            "469/469 [==============================] - 3s 5ms/step - loss: 0.0400 - accuracy: 0.9862 - val_loss: 0.0342 - val_accuracy: 0.9892\n",
            "Epoch 13/300\n",
            "463/469 [============================>.] - ETA: 0s - loss: 0.0371 - accuracy: 0.9882\n",
            "Epoch 00013: loss improved from 0.03999 to 0.03715, saving model to MNIST_Model.iv3.hdf5\n",
            "469/469 [==============================] - 3s 5ms/step - loss: 0.0372 - accuracy: 0.9882 - val_loss: 0.0362 - val_accuracy: 0.9873\n",
            "Epoch 14/300\n",
            "464/469 [============================>.] - ETA: 0s - loss: 0.0361 - accuracy: 0.9883\n",
            "Epoch 00014: loss improved from 0.03715 to 0.03592, saving model to MNIST_Model.iv3.hdf5\n",
            "469/469 [==============================] - 3s 5ms/step - loss: 0.0359 - accuracy: 0.9883 - val_loss: 0.0351 - val_accuracy: 0.9884\n",
            "Epoch 15/300\n",
            "460/469 [============================>.] - ETA: 0s - loss: 0.0334 - accuracy: 0.9892\n",
            "Epoch 00015: loss improved from 0.03592 to 0.03358, saving model to MNIST_Model.iv3.hdf5\n",
            "469/469 [==============================] - 3s 5ms/step - loss: 0.0336 - accuracy: 0.9891 - val_loss: 0.0345 - val_accuracy: 0.9891\n",
            "Epoch 16/300\n",
            "464/469 [============================>.] - ETA: 0s - loss: 0.0314 - accuracy: 0.9893\n",
            "Epoch 00016: loss improved from 0.03358 to 0.03136, saving model to MNIST_Model.iv3.hdf5\n",
            "469/469 [==============================] - 3s 5ms/step - loss: 0.0314 - accuracy: 0.9893 - val_loss: 0.0390 - val_accuracy: 0.9876\n",
            "Epoch 17/300\n",
            "459/469 [============================>.] - ETA: 0s - loss: 0.0290 - accuracy: 0.9901\n",
            "Epoch 00017: loss improved from 0.03136 to 0.02894, saving model to MNIST_Model.iv3.hdf5\n",
            "469/469 [==============================] - 3s 5ms/step - loss: 0.0289 - accuracy: 0.9901 - val_loss: 0.0370 - val_accuracy: 0.9886\n",
            "Epoch 18/300\n",
            "463/469 [============================>.] - ETA: 0s - loss: 0.0289 - accuracy: 0.9902\n",
            "Epoch 00018: loss improved from 0.02894 to 0.02889, saving model to MNIST_Model.iv3.hdf5\n",
            "469/469 [==============================] - 3s 5ms/step - loss: 0.0289 - accuracy: 0.9902 - val_loss: 0.0355 - val_accuracy: 0.9892\n",
            "Epoch 19/300\n",
            "464/469 [============================>.] - ETA: 0s - loss: 0.0275 - accuracy: 0.9907\n",
            "Epoch 00019: loss improved from 0.02889 to 0.02749, saving model to MNIST_Model.iv3.hdf5\n",
            "469/469 [==============================] - 3s 5ms/step - loss: 0.0275 - accuracy: 0.9907 - val_loss: 0.0361 - val_accuracy: 0.9889\n",
            "Epoch 20/300\n",
            "465/469 [============================>.] - ETA: 0s - loss: 0.0262 - accuracy: 0.9907\n",
            "Epoch 00020: loss improved from 0.02749 to 0.02604, saving model to MNIST_Model.iv3.hdf5\n",
            "469/469 [==============================] - 3s 6ms/step - loss: 0.0260 - accuracy: 0.9907 - val_loss: 0.0391 - val_accuracy: 0.9879\n",
            "Epoch 21/300\n",
            "463/469 [============================>.] - ETA: 0s - loss: 0.0255 - accuracy: 0.9914\n",
            "Epoch 00021: loss improved from 0.02604 to 0.02546, saving model to MNIST_Model.iv3.hdf5\n",
            "469/469 [==============================] - 3s 6ms/step - loss: 0.0255 - accuracy: 0.9914 - val_loss: 0.0353 - val_accuracy: 0.9895\n",
            "Epoch 22/300\n",
            "467/469 [============================>.] - ETA: 0s - loss: 0.0250 - accuracy: 0.9916\n",
            "Epoch 00022: loss improved from 0.02546 to 0.02494, saving model to MNIST_Model.iv3.hdf5\n",
            "469/469 [==============================] - 3s 5ms/step - loss: 0.0249 - accuracy: 0.9916 - val_loss: 0.0364 - val_accuracy: 0.9899\n",
            "Epoch 23/300\n",
            "460/469 [============================>.] - ETA: 0s - loss: 0.0230 - accuracy: 0.9926\n",
            "Epoch 00023: loss improved from 0.02494 to 0.02284, saving model to MNIST_Model.iv3.hdf5\n",
            "469/469 [==============================] - 3s 5ms/step - loss: 0.0228 - accuracy: 0.9927 - val_loss: 0.0341 - val_accuracy: 0.9895\n",
            "Epoch 24/300\n",
            "460/469 [============================>.] - ETA: 0s - loss: 0.0210 - accuracy: 0.9931\n",
            "Epoch 00024: loss improved from 0.02284 to 0.02097, saving model to MNIST_Model.iv3.hdf5\n",
            "469/469 [==============================] - 3s 5ms/step - loss: 0.0210 - accuracy: 0.9930 - val_loss: 0.0388 - val_accuracy: 0.9892\n",
            "Epoch 25/300\n",
            "465/469 [============================>.] - ETA: 0s - loss: 0.0212 - accuracy: 0.9927\n",
            "Epoch 00025: loss did not improve from 0.02097\n",
            "469/469 [==============================] - 3s 5ms/step - loss: 0.0212 - accuracy: 0.9927 - val_loss: 0.0370 - val_accuracy: 0.9892\n",
            "Epoch 26/300\n",
            "464/469 [============================>.] - ETA: 0s - loss: 0.0217 - accuracy: 0.9923\n",
            "Epoch 00026: loss did not improve from 0.02097\n",
            "469/469 [==============================] - 2s 5ms/step - loss: 0.0217 - accuracy: 0.9923 - val_loss: 0.0376 - val_accuracy: 0.9886\n",
            "Epoch 27/300\n",
            "464/469 [============================>.] - ETA: 0s - loss: 0.0187 - accuracy: 0.9936\n",
            "Epoch 00027: loss improved from 0.02097 to 0.01874, saving model to MNIST_Model.iv3.hdf5\n",
            "469/469 [==============================] - 3s 5ms/step - loss: 0.0187 - accuracy: 0.9936 - val_loss: 0.0403 - val_accuracy: 0.9897\n",
            "Epoch 28/300\n",
            "467/469 [============================>.] - ETA: 0s - loss: 0.0187 - accuracy: 0.9932\n",
            "Epoch 00028: loss improved from 0.01874 to 0.01867, saving model to MNIST_Model.iv3.hdf5\n",
            "469/469 [==============================] - 3s 5ms/step - loss: 0.0187 - accuracy: 0.9933 - val_loss: 0.0410 - val_accuracy: 0.9887\n",
            "Epoch 29/300\n",
            "466/469 [============================>.] - ETA: 0s - loss: 0.0192 - accuracy: 0.9934\n",
            "Epoch 00029: loss did not improve from 0.01867\n",
            "469/469 [==============================] - 3s 5ms/step - loss: 0.0193 - accuracy: 0.9934 - val_loss: 0.0363 - val_accuracy: 0.9890\n",
            "Epoch 30/300\n",
            "465/469 [============================>.] - ETA: 0s - loss: 0.0183 - accuracy: 0.9932\n",
            "Epoch 00030: loss improved from 0.01867 to 0.01825, saving model to MNIST_Model.iv3.hdf5\n",
            "469/469 [==============================] - 3s 5ms/step - loss: 0.0182 - accuracy: 0.9932 - val_loss: 0.0391 - val_accuracy: 0.9896\n",
            "Epoch 31/300\n",
            "463/469 [============================>.] - ETA: 0s - loss: 0.0174 - accuracy: 0.9940\n",
            "Epoch 00031: loss improved from 0.01825 to 0.01741, saving model to MNIST_Model.iv3.hdf5\n",
            "469/469 [==============================] - 3s 6ms/step - loss: 0.0174 - accuracy: 0.9940 - val_loss: 0.0389 - val_accuracy: 0.9895\n",
            "Epoch 32/300\n",
            "462/469 [============================>.] - ETA: 0s - loss: 0.0164 - accuracy: 0.9940\n",
            "Epoch 00032: loss improved from 0.01741 to 0.01644, saving model to MNIST_Model.iv3.hdf5\n",
            "469/469 [==============================] - 3s 6ms/step - loss: 0.0164 - accuracy: 0.9940 - val_loss: 0.0401 - val_accuracy: 0.9887\n",
            "Epoch 33/300\n",
            "460/469 [============================>.] - ETA: 0s - loss: 0.0176 - accuracy: 0.9940\n",
            "Epoch 00033: loss did not improve from 0.01644\n",
            "469/469 [==============================] - 3s 5ms/step - loss: 0.0175 - accuracy: 0.9940 - val_loss: 0.0375 - val_accuracy: 0.9894\n",
            "Epoch 34/300\n",
            "467/469 [============================>.] - ETA: 0s - loss: 0.0164 - accuracy: 0.9945\n",
            "Epoch 00034: loss did not improve from 0.01644\n",
            "469/469 [==============================] - 3s 5ms/step - loss: 0.0165 - accuracy: 0.9945 - val_loss: 0.0389 - val_accuracy: 0.9904\n",
            "Epoch 35/300\n",
            "461/469 [============================>.] - ETA: 0s - loss: 0.0162 - accuracy: 0.9944\n",
            "Epoch 00035: loss improved from 0.01644 to 0.01623, saving model to MNIST_Model.iv3.hdf5\n",
            "469/469 [==============================] - 3s 5ms/step - loss: 0.0162 - accuracy: 0.9944 - val_loss: 0.0393 - val_accuracy: 0.9898\n",
            "Epoch 36/300\n",
            "466/469 [============================>.] - ETA: 0s - loss: 0.0171 - accuracy: 0.9939\n",
            "Epoch 00036: loss did not improve from 0.01623\n",
            "469/469 [==============================] - 3s 5ms/step - loss: 0.0170 - accuracy: 0.9939 - val_loss: 0.0392 - val_accuracy: 0.9898\n",
            "Epoch 37/300\n",
            "464/469 [============================>.] - ETA: 0s - loss: 0.0158 - accuracy: 0.9941\n",
            "Epoch 00037: loss improved from 0.01623 to 0.01566, saving model to MNIST_Model.iv3.hdf5\n",
            "469/469 [==============================] - 3s 5ms/step - loss: 0.0157 - accuracy: 0.9942 - val_loss: 0.0400 - val_accuracy: 0.9901\n",
            "Epoch 38/300\n",
            "461/469 [============================>.] - ETA: 0s - loss: 0.0149 - accuracy: 0.9948\n",
            "Epoch 00038: loss improved from 0.01566 to 0.01495, saving model to MNIST_Model.iv3.hdf5\n",
            "469/469 [==============================] - 3s 5ms/step - loss: 0.0149 - accuracy: 0.9948 - val_loss: 0.0409 - val_accuracy: 0.9894\n",
            "Epoch 39/300\n",
            "460/469 [============================>.] - ETA: 0s - loss: 0.0149 - accuracy: 0.9949\n",
            "Epoch 00039: loss improved from 0.01495 to 0.01493, saving model to MNIST_Model.iv3.hdf5\n",
            "469/469 [==============================] - 3s 5ms/step - loss: 0.0149 - accuracy: 0.9949 - val_loss: 0.0380 - val_accuracy: 0.9903\n",
            "Epoch 40/300\n",
            "464/469 [============================>.] - ETA: 0s - loss: 0.0157 - accuracy: 0.9946\n",
            "Epoch 00040: loss did not improve from 0.01493\n",
            "469/469 [==============================] - 3s 5ms/step - loss: 0.0157 - accuracy: 0.9946 - val_loss: 0.0404 - val_accuracy: 0.9897\n",
            "Epoch 41/300\n",
            "462/469 [============================>.] - ETA: 0s - loss: 0.0136 - accuracy: 0.9952\n",
            "Epoch 00041: loss improved from 0.01493 to 0.01363, saving model to MNIST_Model.iv3.hdf5\n",
            "469/469 [==============================] - 3s 5ms/step - loss: 0.0136 - accuracy: 0.9952 - val_loss: 0.0402 - val_accuracy: 0.9905\n",
            "Epoch 42/300\n",
            "463/469 [============================>.] - ETA: 0s - loss: 0.0142 - accuracy: 0.9948\n",
            "Epoch 00042: loss did not improve from 0.01363\n",
            "469/469 [==============================] - 3s 5ms/step - loss: 0.0142 - accuracy: 0.9947 - val_loss: 0.0407 - val_accuracy: 0.9906\n",
            "Epoch 43/300\n",
            "462/469 [============================>.] - ETA: 0s - loss: 0.0158 - accuracy: 0.9944\n",
            "Epoch 00043: loss did not improve from 0.01363\n",
            "469/469 [==============================] - 2s 5ms/step - loss: 0.0159 - accuracy: 0.9944 - val_loss: 0.0407 - val_accuracy: 0.9903\n",
            "Epoch 44/300\n",
            "459/469 [============================>.] - ETA: 0s - loss: 0.0133 - accuracy: 0.9956\n",
            "Epoch 00044: loss improved from 0.01363 to 0.01342, saving model to MNIST_Model.iv3.hdf5\n",
            "469/469 [==============================] - 3s 5ms/step - loss: 0.0134 - accuracy: 0.9955 - val_loss: 0.0383 - val_accuracy: 0.9903\n",
            "Epoch 45/300\n",
            "467/469 [============================>.] - ETA: 0s - loss: 0.0150 - accuracy: 0.9944\n",
            "Epoch 00045: loss did not improve from 0.01342\n",
            "469/469 [==============================] - 3s 5ms/step - loss: 0.0150 - accuracy: 0.9944 - val_loss: 0.0379 - val_accuracy: 0.9910\n",
            "Epoch 46/300\n",
            "465/469 [============================>.] - ETA: 0s - loss: 0.0128 - accuracy: 0.9956\n",
            "Epoch 00046: loss improved from 0.01342 to 0.01279, saving model to MNIST_Model.iv3.hdf5\n",
            "469/469 [==============================] - 3s 5ms/step - loss: 0.0128 - accuracy: 0.9956 - val_loss: 0.0390 - val_accuracy: 0.9900\n",
            "Epoch 47/300\n",
            "462/469 [============================>.] - ETA: 0s - loss: 0.0130 - accuracy: 0.9954\n",
            "Epoch 00047: loss did not improve from 0.01279\n",
            "469/469 [==============================] - 3s 5ms/step - loss: 0.0131 - accuracy: 0.9954 - val_loss: 0.0426 - val_accuracy: 0.9897\n",
            "Epoch 48/300\n",
            "460/469 [============================>.] - ETA: 0s - loss: 0.0126 - accuracy: 0.9953\n",
            "Epoch 00048: loss improved from 0.01279 to 0.01260, saving model to MNIST_Model.iv3.hdf5\n",
            "469/469 [==============================] - 3s 5ms/step - loss: 0.0126 - accuracy: 0.9953 - val_loss: 0.0395 - val_accuracy: 0.9904\n",
            "Epoch 49/300\n",
            "461/469 [============================>.] - ETA: 0s - loss: 0.0130 - accuracy: 0.9954\n",
            "Epoch 00049: loss did not improve from 0.01260\n",
            "469/469 [==============================] - 3s 5ms/step - loss: 0.0129 - accuracy: 0.9954 - val_loss: 0.0398 - val_accuracy: 0.9909\n",
            "Epoch 50/300\n",
            "460/469 [============================>.] - ETA: 0s - loss: 0.0130 - accuracy: 0.9956\n",
            "Epoch 00050: loss did not improve from 0.01260\n",
            "469/469 [==============================] - 3s 5ms/step - loss: 0.0129 - accuracy: 0.9956 - val_loss: 0.0392 - val_accuracy: 0.9901\n",
            "Epoch 51/300\n",
            "462/469 [============================>.] - ETA: 0s - loss: 0.0128 - accuracy: 0.9955\n",
            "Epoch 00051: loss did not improve from 0.01260\n",
            "469/469 [==============================] - 2s 5ms/step - loss: 0.0130 - accuracy: 0.9954 - val_loss: 0.0447 - val_accuracy: 0.9894\n",
            "Epoch 52/300\n",
            "462/469 [============================>.] - ETA: 0s - loss: 0.0125 - accuracy: 0.9957\n",
            "Epoch 00052: loss improved from 0.01260 to 0.01253, saving model to MNIST_Model.iv3.hdf5\n",
            "469/469 [==============================] - 3s 5ms/step - loss: 0.0125 - accuracy: 0.9957 - val_loss: 0.0402 - val_accuracy: 0.9913\n",
            "Epoch 53/300\n",
            "460/469 [============================>.] - ETA: 0s - loss: 0.0118 - accuracy: 0.9960\n",
            "Epoch 00053: loss improved from 0.01253 to 0.01201, saving model to MNIST_Model.iv3.hdf5\n",
            "469/469 [==============================] - 3s 5ms/step - loss: 0.0120 - accuracy: 0.9959 - val_loss: 0.0415 - val_accuracy: 0.9909\n",
            "Epoch 54/300\n",
            "461/469 [============================>.] - ETA: 0s - loss: 0.0129 - accuracy: 0.9954\n",
            "Epoch 00054: loss did not improve from 0.01201\n",
            "469/469 [==============================] - 3s 5ms/step - loss: 0.0128 - accuracy: 0.9954 - val_loss: 0.0445 - val_accuracy: 0.9901\n",
            "Epoch 55/300\n",
            "463/469 [============================>.] - ETA: 0s - loss: 0.0122 - accuracy: 0.9956\n",
            "Epoch 00055: loss did not improve from 0.01201\n",
            "469/469 [==============================] - 2s 5ms/step - loss: 0.0122 - accuracy: 0.9955 - val_loss: 0.0422 - val_accuracy: 0.9910\n",
            "Epoch 56/300\n",
            "468/469 [============================>.] - ETA: 0s - loss: 0.0106 - accuracy: 0.9963\n",
            "Epoch 00056: loss improved from 0.01201 to 0.01058, saving model to MNIST_Model.iv3.hdf5\n",
            "469/469 [==============================] - 3s 5ms/step - loss: 0.0106 - accuracy: 0.9963 - val_loss: 0.0435 - val_accuracy: 0.9909\n",
            "Epoch 57/300\n",
            "466/469 [============================>.] - ETA: 0s - loss: 0.0100 - accuracy: 0.9967\n",
            "Epoch 00057: loss improved from 0.01058 to 0.00994, saving model to MNIST_Model.iv3.hdf5\n",
            "469/469 [==============================] - 3s 6ms/step - loss: 0.0099 - accuracy: 0.9967 - val_loss: 0.0495 - val_accuracy: 0.9897\n",
            "Epoch 58/300\n",
            "460/469 [============================>.] - ETA: 0s - loss: 0.0125 - accuracy: 0.9958\n",
            "Epoch 00058: loss did not improve from 0.00994\n",
            "469/469 [==============================] - 3s 6ms/step - loss: 0.0125 - accuracy: 0.9958 - val_loss: 0.0420 - val_accuracy: 0.9898\n",
            "Epoch 59/300\n",
            "469/469 [==============================] - ETA: 0s - loss: 0.0109 - accuracy: 0.9965\n",
            "Epoch 00059: loss did not improve from 0.00994\n",
            "469/469 [==============================] - 3s 6ms/step - loss: 0.0109 - accuracy: 0.9965 - val_loss: 0.0496 - val_accuracy: 0.9892\n",
            "Epoch 60/300\n",
            "462/469 [============================>.] - ETA: 0s - loss: 0.0110 - accuracy: 0.9960\n",
            "Epoch 00060: loss did not improve from 0.00994\n",
            "469/469 [==============================] - 3s 6ms/step - loss: 0.0111 - accuracy: 0.9959 - val_loss: 0.0475 - val_accuracy: 0.9907\n",
            "Epoch 61/300\n",
            "464/469 [============================>.] - ETA: 0s - loss: 0.0114 - accuracy: 0.9959\n",
            "Epoch 00061: loss did not improve from 0.00994\n",
            "469/469 [==============================] - 3s 6ms/step - loss: 0.0114 - accuracy: 0.9959 - val_loss: 0.0472 - val_accuracy: 0.9906\n",
            "Epoch 62/300\n",
            "469/469 [==============================] - ETA: 0s - loss: 0.0102 - accuracy: 0.9962\n",
            "Epoch 00062: loss did not improve from 0.00994\n",
            "469/469 [==============================] - 3s 6ms/step - loss: 0.0102 - accuracy: 0.9962 - val_loss: 0.0446 - val_accuracy: 0.9908\n",
            "Epoch 63/300\n",
            "468/469 [============================>.] - ETA: 0s - loss: 0.0112 - accuracy: 0.9963\n",
            "Epoch 00063: loss did not improve from 0.00994\n",
            "469/469 [==============================] - 3s 6ms/step - loss: 0.0112 - accuracy: 0.9963 - val_loss: 0.0468 - val_accuracy: 0.9907\n",
            "Epoch 64/300\n",
            "461/469 [============================>.] - ETA: 0s - loss: 0.0106 - accuracy: 0.9962\n",
            "Epoch 00064: loss did not improve from 0.00994\n",
            "469/469 [==============================] - 3s 6ms/step - loss: 0.0107 - accuracy: 0.9962 - val_loss: 0.0517 - val_accuracy: 0.9897\n",
            "Epoch 65/300\n",
            "469/469 [==============================] - ETA: 0s - loss: 0.0108 - accuracy: 0.9964\n",
            "Epoch 00065: loss did not improve from 0.00994\n",
            "469/469 [==============================] - 3s 5ms/step - loss: 0.0108 - accuracy: 0.9964 - val_loss: 0.0471 - val_accuracy: 0.9904\n",
            "Epoch 66/300\n",
            "465/469 [============================>.] - ETA: 0s - loss: 0.0102 - accuracy: 0.9967\n",
            "Epoch 00066: loss did not improve from 0.00994\n",
            "469/469 [==============================] - 3s 5ms/step - loss: 0.0102 - accuracy: 0.9967 - val_loss: 0.0475 - val_accuracy: 0.9900\n",
            "Epoch 67/300\n",
            "460/469 [============================>.] - ETA: 0s - loss: 0.0103 - accuracy: 0.9964\n",
            "Epoch 00067: loss did not improve from 0.00994\n",
            "469/469 [==============================] - 3s 5ms/step - loss: 0.0102 - accuracy: 0.9965 - val_loss: 0.0469 - val_accuracy: 0.9908\n",
            "Epoch 68/300\n",
            "464/469 [============================>.] - ETA: 0s - loss: 0.0075 - accuracy: 0.9975\n",
            "Epoch 00068: loss improved from 0.00994 to 0.00750, saving model to MNIST_Model.iv3.hdf5\n",
            "469/469 [==============================] - 3s 6ms/step - loss: 0.0075 - accuracy: 0.9975 - val_loss: 0.0471 - val_accuracy: 0.9911\n",
            "Epoch 69/300\n",
            "462/469 [============================>.] - ETA: 0s - loss: 0.0070 - accuracy: 0.9978\n",
            "Epoch 00069: loss improved from 0.00750 to 0.00699, saving model to MNIST_Model.iv3.hdf5\n",
            "469/469 [==============================] - 3s 6ms/step - loss: 0.0070 - accuracy: 0.9977 - val_loss: 0.0475 - val_accuracy: 0.9911\n",
            "Epoch 70/300\n",
            "463/469 [============================>.] - ETA: 0s - loss: 0.0069 - accuracy: 0.9977\n",
            "Epoch 00070: loss improved from 0.00699 to 0.00698, saving model to MNIST_Model.iv3.hdf5\n",
            "469/469 [==============================] - 3s 6ms/step - loss: 0.0070 - accuracy: 0.9977 - val_loss: 0.0466 - val_accuracy: 0.9905\n",
            "Epoch 71/300\n",
            "469/469 [==============================] - ETA: 0s - loss: 0.0061 - accuracy: 0.9980\n",
            "Epoch 00071: loss improved from 0.00698 to 0.00612, saving model to MNIST_Model.iv3.hdf5\n",
            "469/469 [==============================] - 3s 6ms/step - loss: 0.0061 - accuracy: 0.9980 - val_loss: 0.0468 - val_accuracy: 0.9906\n",
            "Epoch 72/300\n",
            "464/469 [============================>.] - ETA: 0s - loss: 0.0067 - accuracy: 0.9976\n",
            "Epoch 00072: loss did not improve from 0.00612\n",
            "469/469 [==============================] - 3s 6ms/step - loss: 0.0066 - accuracy: 0.9976 - val_loss: 0.0458 - val_accuracy: 0.9908\n",
            "Epoch 73/300\n",
            "461/469 [============================>.] - ETA: 0s - loss: 0.0060 - accuracy: 0.9981\n",
            "Epoch 00073: loss did not improve from 0.00612\n",
            "469/469 [==============================] - 3s 5ms/step - loss: 0.0062 - accuracy: 0.9980 - val_loss: 0.0450 - val_accuracy: 0.9906\n",
            "Epoch 74/300\n",
            "469/469 [==============================] - ETA: 0s - loss: 0.0058 - accuracy: 0.9980\n",
            "Epoch 00074: loss improved from 0.00612 to 0.00578, saving model to MNIST_Model.iv3.hdf5\n",
            "469/469 [==============================] - 3s 5ms/step - loss: 0.0058 - accuracy: 0.9980 - val_loss: 0.0461 - val_accuracy: 0.9909\n",
            "Epoch 75/300\n",
            "463/469 [============================>.] - ETA: 0s - loss: 0.0058 - accuracy: 0.9980\n",
            "Epoch 00075: loss improved from 0.00578 to 0.00577, saving model to MNIST_Model.iv3.hdf5\n",
            "469/469 [==============================] - 3s 6ms/step - loss: 0.0058 - accuracy: 0.9980 - val_loss: 0.0455 - val_accuracy: 0.9911\n",
            "Epoch 76/300\n",
            "469/469 [==============================] - ETA: 0s - loss: 0.0058 - accuracy: 0.9981\n",
            "Epoch 00076: loss did not improve from 0.00577\n",
            "469/469 [==============================] - 3s 5ms/step - loss: 0.0058 - accuracy: 0.9981 - val_loss: 0.0458 - val_accuracy: 0.9906\n",
            "Epoch 77/300\n",
            "463/469 [============================>.] - ETA: 0s - loss: 0.0060 - accuracy: 0.9981\n",
            "Epoch 00077: loss did not improve from 0.00577\n",
            "469/469 [==============================] - 3s 6ms/step - loss: 0.0059 - accuracy: 0.9981 - val_loss: 0.0459 - val_accuracy: 0.9910\n",
            "Epoch 78/300\n",
            "468/469 [============================>.] - ETA: 0s - loss: 0.0056 - accuracy: 0.9981\n",
            "Epoch 00078: loss improved from 0.00577 to 0.00555, saving model to MNIST_Model.iv3.hdf5\n",
            "469/469 [==============================] - 3s 6ms/step - loss: 0.0056 - accuracy: 0.9981 - val_loss: 0.0460 - val_accuracy: 0.9911\n",
            "Epoch 79/300\n",
            "462/469 [============================>.] - ETA: 0s - loss: 0.0053 - accuracy: 0.9981\n",
            "Epoch 00079: loss improved from 0.00555 to 0.00530, saving model to MNIST_Model.iv3.hdf5\n",
            "469/469 [==============================] - 3s 6ms/step - loss: 0.0053 - accuracy: 0.9981 - val_loss: 0.0473 - val_accuracy: 0.9905\n",
            "Epoch 80/300\n",
            "461/469 [============================>.] - ETA: 0s - loss: 0.0054 - accuracy: 0.9981\n",
            "Epoch 00080: loss did not improve from 0.00530\n",
            "469/469 [==============================] - 3s 6ms/step - loss: 0.0053 - accuracy: 0.9981 - val_loss: 0.0485 - val_accuracy: 0.9905\n",
            "Epoch 81/300\n",
            "460/469 [============================>.] - ETA: 0s - loss: 0.0054 - accuracy: 0.9982\n",
            "Epoch 00081: loss did not improve from 0.00530\n",
            "469/469 [==============================] - 3s 6ms/step - loss: 0.0054 - accuracy: 0.9982 - val_loss: 0.0506 - val_accuracy: 0.9904\n",
            "Epoch 82/300\n",
            "469/469 [==============================] - ETA: 0s - loss: 0.0051 - accuracy: 0.9983\n",
            "Epoch 00082: loss improved from 0.00530 to 0.00512, saving model to MNIST_Model.iv3.hdf5\n",
            "469/469 [==============================] - 3s 6ms/step - loss: 0.0051 - accuracy: 0.9983 - val_loss: 0.0480 - val_accuracy: 0.9911\n",
            "Epoch 83/300\n",
            "466/469 [============================>.] - ETA: 0s - loss: 0.0054 - accuracy: 0.9981\n",
            "Epoch 00083: loss did not improve from 0.00512\n",
            "469/469 [==============================] - 3s 6ms/step - loss: 0.0053 - accuracy: 0.9981 - val_loss: 0.0472 - val_accuracy: 0.9909\n",
            "Epoch 84/300\n",
            "463/469 [============================>.] - ETA: 0s - loss: 0.0042 - accuracy: 0.9984\n",
            "Epoch 00084: loss improved from 0.00512 to 0.00435, saving model to MNIST_Model.iv3.hdf5\n",
            "469/469 [==============================] - 3s 6ms/step - loss: 0.0044 - accuracy: 0.9984 - val_loss: 0.0470 - val_accuracy: 0.9909\n",
            "Epoch 85/300\n",
            "462/469 [============================>.] - ETA: 0s - loss: 0.0046 - accuracy: 0.9985\n",
            "Epoch 00085: loss did not improve from 0.00435\n",
            "469/469 [==============================] - 3s 5ms/step - loss: 0.0046 - accuracy: 0.9985 - val_loss: 0.0459 - val_accuracy: 0.9916\n",
            "Epoch 86/300\n",
            "468/469 [============================>.] - ETA: 0s - loss: 0.0049 - accuracy: 0.9985\n",
            "Epoch 00086: loss did not improve from 0.00435\n",
            "469/469 [==============================] - 3s 6ms/step - loss: 0.0049 - accuracy: 0.9985 - val_loss: 0.0459 - val_accuracy: 0.9910\n",
            "Epoch 87/300\n",
            "460/469 [============================>.] - ETA: 0s - loss: 0.0051 - accuracy: 0.9983\n",
            "Epoch 00087: loss did not improve from 0.00435\n",
            "469/469 [==============================] - 3s 6ms/step - loss: 0.0051 - accuracy: 0.9983 - val_loss: 0.0479 - val_accuracy: 0.9910\n",
            "Epoch 88/300\n",
            "461/469 [============================>.] - ETA: 0s - loss: 0.0055 - accuracy: 0.9978\n",
            "Epoch 00088: loss did not improve from 0.00435\n",
            "469/469 [==============================] - 3s 6ms/step - loss: 0.0055 - accuracy: 0.9979 - val_loss: 0.0475 - val_accuracy: 0.9911\n",
            "Epoch 89/300\n",
            "466/469 [============================>.] - ETA: 0s - loss: 0.0043 - accuracy: 0.9987\n",
            "Epoch 00089: loss did not improve from 0.00435\n",
            "469/469 [==============================] - 3s 6ms/step - loss: 0.0044 - accuracy: 0.9987 - val_loss: 0.0479 - val_accuracy: 0.9913\n",
            "Epoch 90/300\n",
            "468/469 [============================>.] - ETA: 0s - loss: 0.0050 - accuracy: 0.9982\n",
            "Epoch 00090: loss did not improve from 0.00435\n",
            "469/469 [==============================] - 3s 5ms/step - loss: 0.0050 - accuracy: 0.9982 - val_loss: 0.0479 - val_accuracy: 0.9913\n",
            "Epoch 91/300\n",
            "469/469 [==============================] - ETA: 0s - loss: 0.0044 - accuracy: 0.9984\n",
            "Epoch 00091: loss did not improve from 0.00435\n",
            "469/469 [==============================] - 3s 6ms/step - loss: 0.0044 - accuracy: 0.9984 - val_loss: 0.0479 - val_accuracy: 0.9910\n",
            "Epoch 92/300\n",
            "466/469 [============================>.] - ETA: 0s - loss: 0.0047 - accuracy: 0.9984\n",
            "Epoch 00092: loss did not improve from 0.00435\n",
            "469/469 [==============================] - 3s 6ms/step - loss: 0.0047 - accuracy: 0.9984 - val_loss: 0.0462 - val_accuracy: 0.9914\n",
            "Epoch 93/300\n",
            "463/469 [============================>.] - ETA: 0s - loss: 0.0044 - accuracy: 0.9985\n",
            "Epoch 00093: loss did not improve from 0.00435\n",
            "469/469 [==============================] - 3s 5ms/step - loss: 0.0044 - accuracy: 0.9985 - val_loss: 0.0474 - val_accuracy: 0.9910\n",
            "Epoch 94/300\n",
            "460/469 [============================>.] - ETA: 0s - loss: 0.0041 - accuracy: 0.9987\n",
            "Epoch 00094: loss improved from 0.00435 to 0.00412, saving model to MNIST_Model.iv3.hdf5\n",
            "469/469 [==============================] - 3s 6ms/step - loss: 0.0041 - accuracy: 0.9987 - val_loss: 0.0475 - val_accuracy: 0.9909\n",
            "Epoch 95/300\n",
            "460/469 [============================>.] - ETA: 0s - loss: 0.0041 - accuracy: 0.9985\n",
            "Epoch 00095: loss did not improve from 0.00412\n",
            "469/469 [==============================] - 3s 6ms/step - loss: 0.0041 - accuracy: 0.9985 - val_loss: 0.0488 - val_accuracy: 0.9910\n",
            "Epoch 96/300\n",
            "468/469 [============================>.] - ETA: 0s - loss: 0.0048 - accuracy: 0.9985\n",
            "Epoch 00096: loss did not improve from 0.00412\n",
            "469/469 [==============================] - 3s 6ms/step - loss: 0.0049 - accuracy: 0.9985 - val_loss: 0.0479 - val_accuracy: 0.9911\n",
            "Epoch 97/300\n",
            "466/469 [============================>.] - ETA: 0s - loss: 0.0048 - accuracy: 0.9983\n",
            "Epoch 00097: loss did not improve from 0.00412\n",
            "469/469 [==============================] - 3s 6ms/step - loss: 0.0048 - accuracy: 0.9983 - val_loss: 0.0484 - val_accuracy: 0.9908\n",
            "Epoch 98/300\n",
            "461/469 [============================>.] - ETA: 0s - loss: 0.0045 - accuracy: 0.9987\n",
            "Epoch 00098: loss did not improve from 0.00412\n",
            "469/469 [==============================] - 3s 6ms/step - loss: 0.0045 - accuracy: 0.9986 - val_loss: 0.0491 - val_accuracy: 0.9906\n",
            "Epoch 99/300\n",
            "461/469 [============================>.] - ETA: 0s - loss: 0.0046 - accuracy: 0.9984\n",
            "Epoch 00099: loss did not improve from 0.00412\n",
            "469/469 [==============================] - 3s 6ms/step - loss: 0.0045 - accuracy: 0.9984 - val_loss: 0.0488 - val_accuracy: 0.9910\n",
            "Epoch 100/300\n",
            "469/469 [==============================] - ETA: 0s - loss: 0.0047 - accuracy: 0.9984\n",
            "Epoch 00100: loss did not improve from 0.00412\n",
            "469/469 [==============================] - 3s 6ms/step - loss: 0.0047 - accuracy: 0.9984 - val_loss: 0.0493 - val_accuracy: 0.9913\n",
            "Epoch 101/300\n",
            "466/469 [============================>.] - ETA: 0s - loss: 0.0044 - accuracy: 0.9984\n",
            "Epoch 00101: loss did not improve from 0.00412\n",
            "469/469 [==============================] - 3s 6ms/step - loss: 0.0044 - accuracy: 0.9984 - val_loss: 0.0494 - val_accuracy: 0.9911\n",
            "Epoch 102/300\n",
            "464/469 [============================>.] - ETA: 0s - loss: 0.0039 - accuracy: 0.9988\n",
            "Epoch 00102: loss improved from 0.00412 to 0.00393, saving model to MNIST_Model.iv3.hdf5\n",
            "469/469 [==============================] - 3s 5ms/step - loss: 0.0039 - accuracy: 0.9988 - val_loss: 0.0494 - val_accuracy: 0.9913\n",
            "Epoch 103/300\n",
            "464/469 [============================>.] - ETA: 0s - loss: 0.0045 - accuracy: 0.9985\n",
            "Epoch 00103: loss did not improve from 0.00393\n",
            "469/469 [==============================] - 3s 6ms/step - loss: 0.0045 - accuracy: 0.9985 - val_loss: 0.0479 - val_accuracy: 0.9910\n",
            "Epoch 104/300\n",
            "461/469 [============================>.] - ETA: 0s - loss: 0.0044 - accuracy: 0.9986\n",
            "Epoch 00104: loss did not improve from 0.00393\n",
            "469/469 [==============================] - 3s 5ms/step - loss: 0.0044 - accuracy: 0.9986 - val_loss: 0.0493 - val_accuracy: 0.9910\n",
            "Epoch 105/300\n",
            "463/469 [============================>.] - ETA: 0s - loss: 0.0044 - accuracy: 0.9984\n",
            "Epoch 00105: loss did not improve from 0.00393\n",
            "469/469 [==============================] - 3s 6ms/step - loss: 0.0043 - accuracy: 0.9984 - val_loss: 0.0481 - val_accuracy: 0.9912\n",
            "Epoch 106/300\n",
            "468/469 [============================>.] - ETA: 0s - loss: 0.0039 - accuracy: 0.9986\n",
            "Epoch 00106: loss improved from 0.00393 to 0.00389, saving model to MNIST_Model.iv3.hdf5\n",
            "469/469 [==============================] - 3s 6ms/step - loss: 0.0039 - accuracy: 0.9986 - val_loss: 0.0498 - val_accuracy: 0.9911\n",
            "Epoch 107/300\n",
            "462/469 [============================>.] - ETA: 0s - loss: 0.0035 - accuracy: 0.9987\n",
            "Epoch 00107: loss improved from 0.00389 to 0.00349, saving model to MNIST_Model.iv3.hdf5\n",
            "469/469 [==============================] - 3s 6ms/step - loss: 0.0035 - accuracy: 0.9987 - val_loss: 0.0508 - val_accuracy: 0.9912\n",
            "Epoch 108/300\n",
            "463/469 [============================>.] - ETA: 0s - loss: 0.0041 - accuracy: 0.9987\n",
            "Epoch 00108: loss did not improve from 0.00349\n",
            "469/469 [==============================] - 3s 6ms/step - loss: 0.0041 - accuracy: 0.9987 - val_loss: 0.0495 - val_accuracy: 0.9912\n",
            "Epoch 109/300\n",
            "465/469 [============================>.] - ETA: 0s - loss: 0.0042 - accuracy: 0.9985\n",
            "Epoch 00109: loss did not improve from 0.00349\n",
            "469/469 [==============================] - 3s 6ms/step - loss: 0.0042 - accuracy: 0.9985 - val_loss: 0.0497 - val_accuracy: 0.9909\n",
            "Epoch 110/300\n",
            "468/469 [============================>.] - ETA: 0s - loss: 0.0043 - accuracy: 0.9986\n",
            "Epoch 00110: loss did not improve from 0.00349\n",
            "469/469 [==============================] - 3s 6ms/step - loss: 0.0043 - accuracy: 0.9986 - val_loss: 0.0473 - val_accuracy: 0.9914\n",
            "Epoch 111/300\n",
            "469/469 [==============================] - ETA: 0s - loss: 0.0037 - accuracy: 0.9988\n",
            "Epoch 00111: loss did not improve from 0.00349\n",
            "469/469 [==============================] - 3s 6ms/step - loss: 0.0037 - accuracy: 0.9988 - val_loss: 0.0499 - val_accuracy: 0.9913\n",
            "Epoch 112/300\n",
            "468/469 [============================>.] - ETA: 0s - loss: 0.0040 - accuracy: 0.9986\n",
            "Epoch 00112: loss did not improve from 0.00349\n",
            "469/469 [==============================] - 3s 6ms/step - loss: 0.0040 - accuracy: 0.9986 - val_loss: 0.0506 - val_accuracy: 0.9911\n",
            "Epoch 113/300\n",
            "466/469 [============================>.] - ETA: 0s - loss: 0.0038 - accuracy: 0.9987\n",
            "Epoch 00113: loss did not improve from 0.00349\n",
            "469/469 [==============================] - 3s 6ms/step - loss: 0.0038 - accuracy: 0.9987 - val_loss: 0.0511 - val_accuracy: 0.9908\n",
            "Epoch 114/300\n",
            "460/469 [============================>.] - ETA: 0s - loss: 0.0042 - accuracy: 0.9987\n",
            "Epoch 00114: loss did not improve from 0.00349\n",
            "469/469 [==============================] - 3s 6ms/step - loss: 0.0042 - accuracy: 0.9987 - val_loss: 0.0501 - val_accuracy: 0.9911\n",
            "Epoch 115/300\n",
            "462/469 [============================>.] - ETA: 0s - loss: 0.0038 - accuracy: 0.9987\n",
            "Epoch 00115: loss did not improve from 0.00349\n",
            "469/469 [==============================] - 3s 6ms/step - loss: 0.0039 - accuracy: 0.9987 - val_loss: 0.0529 - val_accuracy: 0.9911\n",
            "Epoch 116/300\n",
            "462/469 [============================>.] - ETA: 0s - loss: 0.0040 - accuracy: 0.9986\n",
            "Epoch 00116: loss did not improve from 0.00349\n",
            "469/469 [==============================] - 3s 6ms/step - loss: 0.0040 - accuracy: 0.9987 - val_loss: 0.0508 - val_accuracy: 0.9910\n",
            "Epoch 117/300\n",
            "465/469 [============================>.] - ETA: 0s - loss: 0.0041 - accuracy: 0.9986\n",
            "Epoch 00117: loss did not improve from 0.00349\n",
            "469/469 [==============================] - 3s 6ms/step - loss: 0.0041 - accuracy: 0.9986 - val_loss: 0.0496 - val_accuracy: 0.9912\n",
            "Epoch 118/300\n",
            "459/469 [============================>.] - ETA: 0s - loss: 0.0040 - accuracy: 0.9986\n",
            "Epoch 00118: loss did not improve from 0.00349\n",
            "469/469 [==============================] - 3s 6ms/step - loss: 0.0040 - accuracy: 0.9986 - val_loss: 0.0499 - val_accuracy: 0.9911\n",
            "Epoch 119/300\n",
            "462/469 [============================>.] - ETA: 0s - loss: 0.0039 - accuracy: 0.9988\n",
            "Epoch 00119: loss did not improve from 0.00349\n",
            "469/469 [==============================] - 3s 6ms/step - loss: 0.0039 - accuracy: 0.9988 - val_loss: 0.0509 - val_accuracy: 0.9910\n",
            "Epoch 120/300\n",
            "461/469 [============================>.] - ETA: 0s - loss: 0.0037 - accuracy: 0.9986\n",
            "Epoch 00120: loss did not improve from 0.00349\n",
            "469/469 [==============================] - 3s 6ms/step - loss: 0.0036 - accuracy: 0.9987 - val_loss: 0.0492 - val_accuracy: 0.9913\n",
            "Epoch 121/300\n",
            "469/469 [==============================] - ETA: 0s - loss: 0.0031 - accuracy: 0.9990\n",
            "Epoch 00121: loss improved from 0.00349 to 0.00313, saving model to MNIST_Model.iv3.hdf5\n",
            "469/469 [==============================] - 3s 6ms/step - loss: 0.0031 - accuracy: 0.9990 - val_loss: 0.0500 - val_accuracy: 0.9912\n",
            "Epoch 122/300\n",
            "464/469 [============================>.] - ETA: 0s - loss: 0.0038 - accuracy: 0.9988\n",
            "Epoch 00122: loss did not improve from 0.00313\n",
            "469/469 [==============================] - 3s 6ms/step - loss: 0.0038 - accuracy: 0.9988 - val_loss: 0.0491 - val_accuracy: 0.9915\n",
            "Epoch 123/300\n",
            "462/469 [============================>.] - ETA: 0s - loss: 0.0038 - accuracy: 0.9987\n",
            "Epoch 00123: loss did not improve from 0.00313\n",
            "469/469 [==============================] - 3s 6ms/step - loss: 0.0037 - accuracy: 0.9987 - val_loss: 0.0492 - val_accuracy: 0.9913\n",
            "Epoch 124/300\n",
            "461/469 [============================>.] - ETA: 0s - loss: 0.0031 - accuracy: 0.9990\n",
            "Epoch 00124: loss improved from 0.00313 to 0.00310, saving model to MNIST_Model.iv3.hdf5\n",
            "469/469 [==============================] - 3s 6ms/step - loss: 0.0031 - accuracy: 0.9990 - val_loss: 0.0514 - val_accuracy: 0.9911\n",
            "Epoch 125/300\n",
            "464/469 [============================>.] - ETA: 0s - loss: 0.0033 - accuracy: 0.9989\n",
            "Epoch 00125: loss did not improve from 0.00310\n",
            "469/469 [==============================] - 3s 6ms/step - loss: 0.0032 - accuracy: 0.9989 - val_loss: 0.0505 - val_accuracy: 0.9912\n",
            "Epoch 126/300\n",
            "468/469 [============================>.] - ETA: 0s - loss: 0.0037 - accuracy: 0.9988\n",
            "Epoch 00126: loss did not improve from 0.00310\n",
            "469/469 [==============================] - 3s 6ms/step - loss: 0.0037 - accuracy: 0.9988 - val_loss: 0.0506 - val_accuracy: 0.9917\n",
            "Epoch 127/300\n",
            "469/469 [==============================] - ETA: 0s - loss: 0.0038 - accuracy: 0.9986\n",
            "Epoch 00127: loss did not improve from 0.00310\n",
            "469/469 [==============================] - 3s 6ms/step - loss: 0.0038 - accuracy: 0.9986 - val_loss: 0.0504 - val_accuracy: 0.9915\n",
            "Epoch 128/300\n",
            "466/469 [============================>.] - ETA: 0s - loss: 0.0031 - accuracy: 0.9989\n",
            "Epoch 00128: loss improved from 0.00310 to 0.00309, saving model to MNIST_Model.iv3.hdf5\n",
            "469/469 [==============================] - 3s 6ms/step - loss: 0.0031 - accuracy: 0.9990 - val_loss: 0.0513 - val_accuracy: 0.9914\n",
            "Epoch 129/300\n",
            "467/469 [============================>.] - ETA: 0s - loss: 0.0034 - accuracy: 0.9990\n",
            "Epoch 00129: loss did not improve from 0.00309\n",
            "469/469 [==============================] - 3s 5ms/step - loss: 0.0035 - accuracy: 0.9990 - val_loss: 0.0514 - val_accuracy: 0.9912\n",
            "Epoch 130/300\n",
            "467/469 [============================>.] - ETA: 0s - loss: 0.0031 - accuracy: 0.9990\n",
            "Epoch 00130: loss improved from 0.00309 to 0.00305, saving model to MNIST_Model.iv3.hdf5\n",
            "469/469 [==============================] - 3s 6ms/step - loss: 0.0031 - accuracy: 0.9990 - val_loss: 0.0506 - val_accuracy: 0.9914\n",
            "Epoch 131/300\n",
            "469/469 [==============================] - ETA: 0s - loss: 0.0036 - accuracy: 0.9988\n",
            "Epoch 00131: loss did not improve from 0.00305\n",
            "469/469 [==============================] - 3s 6ms/step - loss: 0.0036 - accuracy: 0.9988 - val_loss: 0.0515 - val_accuracy: 0.9911\n",
            "Epoch 132/300\n",
            "462/469 [============================>.] - ETA: 0s - loss: 0.0031 - accuracy: 0.9990\n",
            "Epoch 00132: loss did not improve from 0.00305\n",
            "469/469 [==============================] - 3s 6ms/step - loss: 0.0031 - accuracy: 0.9990 - val_loss: 0.0516 - val_accuracy: 0.9912\n",
            "Epoch 133/300\n",
            "459/469 [============================>.] - ETA: 0s - loss: 0.0034 - accuracy: 0.9989\n",
            "Epoch 00133: loss did not improve from 0.00305\n",
            "469/469 [==============================] - 3s 6ms/step - loss: 0.0034 - accuracy: 0.9990 - val_loss: 0.0526 - val_accuracy: 0.9910\n",
            "Epoch 134/300\n",
            "462/469 [============================>.] - ETA: 0s - loss: 0.0036 - accuracy: 0.9986\n",
            "Epoch 00134: loss did not improve from 0.00305\n",
            "469/469 [==============================] - 3s 6ms/step - loss: 0.0037 - accuracy: 0.9986 - val_loss: 0.0525 - val_accuracy: 0.9909\n",
            "Epoch 135/300\n",
            "464/469 [============================>.] - ETA: 0s - loss: 0.0035 - accuracy: 0.9987\n",
            "Epoch 00135: loss did not improve from 0.00305\n",
            "469/469 [==============================] - 3s 6ms/step - loss: 0.0034 - accuracy: 0.9987 - val_loss: 0.0516 - val_accuracy: 0.9910\n",
            "Epoch 136/300\n",
            "461/469 [============================>.] - ETA: 0s - loss: 0.0032 - accuracy: 0.9988\n",
            "Epoch 00136: loss did not improve from 0.00305\n",
            "469/469 [==============================] - 3s 6ms/step - loss: 0.0032 - accuracy: 0.9989 - val_loss: 0.0528 - val_accuracy: 0.9910\n",
            "Epoch 137/300\n",
            "461/469 [============================>.] - ETA: 0s - loss: 0.0034 - accuracy: 0.9988\n",
            "Epoch 00137: loss did not improve from 0.00305\n",
            "469/469 [==============================] - 3s 6ms/step - loss: 0.0033 - accuracy: 0.9988 - val_loss: 0.0512 - val_accuracy: 0.9906\n",
            "Epoch 138/300\n",
            "462/469 [============================>.] - ETA: 0s - loss: 0.0030 - accuracy: 0.9989\n",
            "Epoch 00138: loss improved from 0.00305 to 0.00301, saving model to MNIST_Model.iv3.hdf5\n",
            "469/469 [==============================] - 3s 6ms/step - loss: 0.0030 - accuracy: 0.9989 - val_loss: 0.0519 - val_accuracy: 0.9911\n",
            "Epoch 139/300\n",
            "460/469 [============================>.] - ETA: 0s - loss: 0.0030 - accuracy: 0.9990\n",
            "Epoch 00139: loss improved from 0.00301 to 0.00298, saving model to MNIST_Model.iv3.hdf5\n",
            "469/469 [==============================] - 3s 6ms/step - loss: 0.0030 - accuracy: 0.9991 - val_loss: 0.0536 - val_accuracy: 0.9910\n",
            "Epoch 140/300\n",
            "465/469 [============================>.] - ETA: 0s - loss: 0.0033 - accuracy: 0.9989\n",
            "Epoch 00140: loss did not improve from 0.00298\n",
            "469/469 [==============================] - 3s 6ms/step - loss: 0.0033 - accuracy: 0.9989 - val_loss: 0.0520 - val_accuracy: 0.9910\n",
            "Epoch 141/300\n",
            "466/469 [============================>.] - ETA: 0s - loss: 0.0037 - accuracy: 0.9986\n",
            "Epoch 00141: loss did not improve from 0.00298\n",
            "469/469 [==============================] - 3s 6ms/step - loss: 0.0037 - accuracy: 0.9986 - val_loss: 0.0516 - val_accuracy: 0.9911\n",
            "Epoch 142/300\n",
            "465/469 [============================>.] - ETA: 0s - loss: 0.0037 - accuracy: 0.9987\n",
            "Epoch 00142: loss did not improve from 0.00298\n",
            "469/469 [==============================] - 3s 6ms/step - loss: 0.0037 - accuracy: 0.9987 - val_loss: 0.0510 - val_accuracy: 0.9910\n",
            "Epoch 143/300\n",
            "467/469 [============================>.] - ETA: 0s - loss: 0.0032 - accuracy: 0.9990\n",
            "Epoch 00143: loss did not improve from 0.00298\n",
            "469/469 [==============================] - 3s 6ms/step - loss: 0.0032 - accuracy: 0.9990 - val_loss: 0.0513 - val_accuracy: 0.9907\n",
            "Epoch 144/300\n",
            "468/469 [============================>.] - ETA: 0s - loss: 0.0031 - accuracy: 0.9990\n",
            "Epoch 00144: loss did not improve from 0.00298\n",
            "469/469 [==============================] - 3s 6ms/step - loss: 0.0031 - accuracy: 0.9991 - val_loss: 0.0533 - val_accuracy: 0.9910\n",
            "Epoch 145/300\n",
            "469/469 [==============================] - ETA: 0s - loss: 0.0034 - accuracy: 0.9988\n",
            "Epoch 00145: loss did not improve from 0.00298\n",
            "469/469 [==============================] - 3s 6ms/step - loss: 0.0034 - accuracy: 0.9988 - val_loss: 0.0530 - val_accuracy: 0.9910\n",
            "Epoch 146/300\n",
            "466/469 [============================>.] - ETA: 0s - loss: 0.0033 - accuracy: 0.9989\n",
            "Epoch 00146: loss did not improve from 0.00298\n",
            "469/469 [==============================] - 3s 6ms/step - loss: 0.0033 - accuracy: 0.9989 - val_loss: 0.0533 - val_accuracy: 0.9912\n",
            "Epoch 147/300\n",
            "466/469 [============================>.] - ETA: 0s - loss: 0.0035 - accuracy: 0.9989\n",
            "Epoch 00147: loss did not improve from 0.00298\n",
            "469/469 [==============================] - 3s 6ms/step - loss: 0.0035 - accuracy: 0.9989 - val_loss: 0.0522 - val_accuracy: 0.9912\n",
            "Epoch 148/300\n",
            "465/469 [============================>.] - ETA: 0s - loss: 0.0034 - accuracy: 0.9989\n",
            "Epoch 00148: loss did not improve from 0.00298\n",
            "469/469 [==============================] - 3s 6ms/step - loss: 0.0034 - accuracy: 0.9989 - val_loss: 0.0513 - val_accuracy: 0.9917\n",
            "Epoch 149/300\n",
            "469/469 [==============================] - ETA: 0s - loss: 0.0036 - accuracy: 0.9988\n",
            "Epoch 00149: loss did not improve from 0.00298\n",
            "469/469 [==============================] - 3s 6ms/step - loss: 0.0036 - accuracy: 0.9988 - val_loss: 0.0502 - val_accuracy: 0.9912\n",
            "Epoch 150/300\n",
            "468/469 [============================>.] - ETA: 0s - loss: 0.0031 - accuracy: 0.9992\n",
            "Epoch 00150: loss did not improve from 0.00298\n",
            "469/469 [==============================] - 3s 6ms/step - loss: 0.0031 - accuracy: 0.9992 - val_loss: 0.0512 - val_accuracy: 0.9913\n",
            "Epoch 151/300\n",
            "462/469 [============================>.] - ETA: 0s - loss: 0.0033 - accuracy: 0.9988\n",
            "Epoch 00151: loss did not improve from 0.00298\n",
            "469/469 [==============================] - 3s 6ms/step - loss: 0.0033 - accuracy: 0.9988 - val_loss: 0.0514 - val_accuracy: 0.9913\n",
            "Epoch 152/300\n",
            "464/469 [============================>.] - ETA: 0s - loss: 0.0031 - accuracy: 0.9990\n",
            "Epoch 00152: loss did not improve from 0.00298\n",
            "469/469 [==============================] - 3s 6ms/step - loss: 0.0031 - accuracy: 0.9990 - val_loss: 0.0510 - val_accuracy: 0.9916\n",
            "Epoch 153/300\n",
            "462/469 [============================>.] - ETA: 0s - loss: 0.0032 - accuracy: 0.9989\n",
            "Epoch 00153: loss did not improve from 0.00298\n",
            "469/469 [==============================] - 3s 6ms/step - loss: 0.0032 - accuracy: 0.9989 - val_loss: 0.0525 - val_accuracy: 0.9910\n",
            "Epoch 154/300\n",
            "462/469 [============================>.] - ETA: 0s - loss: 0.0027 - accuracy: 0.9991\n",
            "Epoch 00154: loss improved from 0.00298 to 0.00276, saving model to MNIST_Model.iv3.hdf5\n",
            "469/469 [==============================] - 3s 6ms/step - loss: 0.0028 - accuracy: 0.9991 - val_loss: 0.0531 - val_accuracy: 0.9908\n",
            "Epoch 155/300\n",
            "468/469 [============================>.] - ETA: 0s - loss: 0.0034 - accuracy: 0.9990\n",
            "Epoch 00155: loss did not improve from 0.00276\n",
            "469/469 [==============================] - 3s 6ms/step - loss: 0.0034 - accuracy: 0.9990 - val_loss: 0.0523 - val_accuracy: 0.9910\n",
            "Epoch 156/300\n",
            "462/469 [============================>.] - ETA: 0s - loss: 0.0028 - accuracy: 0.9991\n",
            "Epoch 00156: loss did not improve from 0.00276\n",
            "469/469 [==============================] - 3s 6ms/step - loss: 0.0028 - accuracy: 0.9991 - val_loss: 0.0533 - val_accuracy: 0.9910\n",
            "Epoch 157/300\n",
            "460/469 [============================>.] - ETA: 0s - loss: 0.0034 - accuracy: 0.9987\n",
            "Epoch 00157: loss did not improve from 0.00276\n",
            "469/469 [==============================] - 3s 6ms/step - loss: 0.0034 - accuracy: 0.9987 - val_loss: 0.0524 - val_accuracy: 0.9911\n",
            "Epoch 158/300\n",
            "462/469 [============================>.] - ETA: 0s - loss: 0.0035 - accuracy: 0.9988\n",
            "Epoch 00158: loss did not improve from 0.00276\n",
            "469/469 [==============================] - 3s 6ms/step - loss: 0.0035 - accuracy: 0.9988 - val_loss: 0.0522 - val_accuracy: 0.9913\n",
            "Epoch 159/300\n",
            "464/469 [============================>.] - ETA: 0s - loss: 0.0030 - accuracy: 0.9991\n",
            "Epoch 00159: loss did not improve from 0.00276\n",
            "469/469 [==============================] - 3s 6ms/step - loss: 0.0030 - accuracy: 0.9991 - val_loss: 0.0532 - val_accuracy: 0.9913\n",
            "Epoch 160/300\n",
            "469/469 [==============================] - ETA: 0s - loss: 0.0030 - accuracy: 0.9990\n",
            "Epoch 00160: loss did not improve from 0.00276\n",
            "469/469 [==============================] - 3s 6ms/step - loss: 0.0030 - accuracy: 0.9990 - val_loss: 0.0526 - val_accuracy: 0.9911\n",
            "Epoch 161/300\n",
            "469/469 [==============================] - ETA: 0s - loss: 0.0027 - accuracy: 0.9991\n",
            "Epoch 00161: loss improved from 0.00276 to 0.00272, saving model to MNIST_Model.iv3.hdf5\n",
            "469/469 [==============================] - 3s 6ms/step - loss: 0.0027 - accuracy: 0.9991 - val_loss: 0.0535 - val_accuracy: 0.9912\n",
            "Epoch 162/300\n",
            "465/469 [============================>.] - ETA: 0s - loss: 0.0028 - accuracy: 0.9991\n",
            "Epoch 00162: loss did not improve from 0.00272\n",
            "469/469 [==============================] - 3s 6ms/step - loss: 0.0027 - accuracy: 0.9991 - val_loss: 0.0538 - val_accuracy: 0.9915\n",
            "Epoch 163/300\n",
            "469/469 [==============================] - ETA: 0s - loss: 0.0030 - accuracy: 0.9989\n",
            "Epoch 00163: loss did not improve from 0.00272\n",
            "469/469 [==============================] - 3s 6ms/step - loss: 0.0030 - accuracy: 0.9989 - val_loss: 0.0530 - val_accuracy: 0.9913\n",
            "Epoch 164/300\n",
            "462/469 [============================>.] - ETA: 0s - loss: 0.0030 - accuracy: 0.9990\n",
            "Epoch 00164: loss did not improve from 0.00272\n",
            "469/469 [==============================] - 3s 6ms/step - loss: 0.0030 - accuracy: 0.9990 - val_loss: 0.0543 - val_accuracy: 0.9914\n",
            "Epoch 165/300\n",
            "463/469 [============================>.] - ETA: 0s - loss: 0.0034 - accuracy: 0.9989\n",
            "Epoch 00165: loss did not improve from 0.00272\n",
            "469/469 [==============================] - 3s 6ms/step - loss: 0.0034 - accuracy: 0.9989 - val_loss: 0.0510 - val_accuracy: 0.9912\n",
            "Epoch 166/300\n",
            "466/469 [============================>.] - ETA: 0s - loss: 0.0026 - accuracy: 0.9990\n",
            "Epoch 00166: loss improved from 0.00272 to 0.00263, saving model to MNIST_Model.iv3.hdf5\n",
            "469/469 [==============================] - 3s 6ms/step - loss: 0.0026 - accuracy: 0.9991 - val_loss: 0.0518 - val_accuracy: 0.9914\n",
            "Epoch 167/300\n",
            "465/469 [============================>.] - ETA: 0s - loss: 0.0029 - accuracy: 0.9990\n",
            "Epoch 00167: loss did not improve from 0.00263\n",
            "469/469 [==============================] - 3s 6ms/step - loss: 0.0029 - accuracy: 0.9991 - val_loss: 0.0536 - val_accuracy: 0.9913\n",
            "Epoch 168/300\n",
            "465/469 [============================>.] - ETA: 0s - loss: 0.0032 - accuracy: 0.9990\n",
            "Epoch 00168: loss did not improve from 0.00263\n",
            "469/469 [==============================] - 3s 6ms/step - loss: 0.0032 - accuracy: 0.9990 - val_loss: 0.0529 - val_accuracy: 0.9915\n",
            "Epoch 169/300\n",
            "467/469 [============================>.] - ETA: 0s - loss: 0.0033 - accuracy: 0.9990\n",
            "Epoch 00169: loss did not improve from 0.00263\n",
            "469/469 [==============================] - 3s 6ms/step - loss: 0.0033 - accuracy: 0.9990 - val_loss: 0.0534 - val_accuracy: 0.9911\n",
            "Epoch 170/300\n",
            "468/469 [============================>.] - ETA: 0s - loss: 0.0034 - accuracy: 0.9989\n",
            "Epoch 00170: loss did not improve from 0.00263\n",
            "469/469 [==============================] - 3s 6ms/step - loss: 0.0034 - accuracy: 0.9989 - val_loss: 0.0523 - val_accuracy: 0.9910\n",
            "Epoch 171/300\n",
            "465/469 [============================>.] - ETA: 0s - loss: 0.0032 - accuracy: 0.9990\n",
            "Epoch 00171: loss did not improve from 0.00263\n",
            "469/469 [==============================] - 3s 6ms/step - loss: 0.0032 - accuracy: 0.9990 - val_loss: 0.0536 - val_accuracy: 0.9912\n",
            "Epoch 172/300\n",
            "460/469 [============================>.] - ETA: 0s - loss: 0.0031 - accuracy: 0.9990\n",
            "Epoch 00172: loss did not improve from 0.00263\n",
            "469/469 [==============================] - 3s 6ms/step - loss: 0.0031 - accuracy: 0.9990 - val_loss: 0.0528 - val_accuracy: 0.9910\n",
            "Epoch 173/300\n",
            "462/469 [============================>.] - ETA: 0s - loss: 0.0029 - accuracy: 0.9990\n",
            "Epoch 00173: loss did not improve from 0.00263\n",
            "469/469 [==============================] - 3s 6ms/step - loss: 0.0029 - accuracy: 0.9990 - val_loss: 0.0547 - val_accuracy: 0.9911\n",
            "Epoch 174/300\n",
            "466/469 [============================>.] - ETA: 0s - loss: 0.0030 - accuracy: 0.9991\n",
            "Epoch 00174: loss did not improve from 0.00263\n",
            "469/469 [==============================] - 3s 6ms/step - loss: 0.0030 - accuracy: 0.9991 - val_loss: 0.0534 - val_accuracy: 0.9911\n",
            "Epoch 175/300\n",
            "463/469 [============================>.] - ETA: 0s - loss: 0.0030 - accuracy: 0.9989\n",
            "Epoch 00175: loss did not improve from 0.00263\n",
            "469/469 [==============================] - 3s 6ms/step - loss: 0.0030 - accuracy: 0.9989 - val_loss: 0.0529 - val_accuracy: 0.9911\n",
            "Epoch 176/300\n",
            "468/469 [============================>.] - ETA: 0s - loss: 0.0027 - accuracy: 0.9991\n",
            "Epoch 00176: loss did not improve from 0.00263\n",
            "469/469 [==============================] - 3s 7ms/step - loss: 0.0027 - accuracy: 0.9991 - val_loss: 0.0524 - val_accuracy: 0.9910\n",
            "Epoch 177/300\n",
            "463/469 [============================>.] - ETA: 0s - loss: 0.0029 - accuracy: 0.9991\n",
            "Epoch 00177: loss did not improve from 0.00263\n",
            "469/469 [==============================] - 3s 7ms/step - loss: 0.0029 - accuracy: 0.9991 - val_loss: 0.0524 - val_accuracy: 0.9912\n",
            "Epoch 178/300\n",
            "464/469 [============================>.] - ETA: 0s - loss: 0.0030 - accuracy: 0.9990\n",
            "Epoch 00178: loss did not improve from 0.00263\n",
            "469/469 [==============================] - 3s 6ms/step - loss: 0.0030 - accuracy: 0.9990 - val_loss: 0.0535 - val_accuracy: 0.9914\n",
            "Epoch 179/300\n",
            "461/469 [============================>.] - ETA: 0s - loss: 0.0028 - accuracy: 0.9990\n",
            "Epoch 00179: loss did not improve from 0.00263\n",
            "469/469 [==============================] - 3s 6ms/step - loss: 0.0028 - accuracy: 0.9990 - val_loss: 0.0541 - val_accuracy: 0.9912\n",
            "Epoch 180/300\n",
            "462/469 [============================>.] - ETA: 0s - loss: 0.0034 - accuracy: 0.9988\n",
            "Epoch 00180: loss did not improve from 0.00263\n",
            "469/469 [==============================] - 3s 6ms/step - loss: 0.0034 - accuracy: 0.9988 - val_loss: 0.0534 - val_accuracy: 0.9912\n",
            "Epoch 181/300\n",
            "464/469 [============================>.] - ETA: 0s - loss: 0.0027 - accuracy: 0.9991\n",
            "Epoch 00181: loss improved from 0.00263 to 0.00263, saving model to MNIST_Model.iv3.hdf5\n",
            "469/469 [==============================] - 3s 6ms/step - loss: 0.0026 - accuracy: 0.9991 - val_loss: 0.0537 - val_accuracy: 0.9913\n",
            "Epoch 182/300\n",
            "466/469 [============================>.] - ETA: 0s - loss: 0.0031 - accuracy: 0.9989\n",
            "Epoch 00182: loss did not improve from 0.00263\n",
            "469/469 [==============================] - 3s 6ms/step - loss: 0.0031 - accuracy: 0.9990 - val_loss: 0.0527 - val_accuracy: 0.9914\n",
            "Epoch 183/300\n",
            "469/469 [==============================] - ETA: 0s - loss: 0.0033 - accuracy: 0.9991\n",
            "Epoch 00183: loss did not improve from 0.00263\n",
            "469/469 [==============================] - 3s 6ms/step - loss: 0.0033 - accuracy: 0.9991 - val_loss: 0.0527 - val_accuracy: 0.9913\n",
            "Epoch 184/300\n",
            "465/469 [============================>.] - ETA: 0s - loss: 0.0030 - accuracy: 0.9990\n",
            "Epoch 00184: loss did not improve from 0.00263\n",
            "469/469 [==============================] - 3s 6ms/step - loss: 0.0030 - accuracy: 0.9990 - val_loss: 0.0536 - val_accuracy: 0.9912\n",
            "Epoch 185/300\n",
            "462/469 [============================>.] - ETA: 0s - loss: 0.0028 - accuracy: 0.9991\n",
            "Epoch 00185: loss did not improve from 0.00263\n",
            "469/469 [==============================] - 3s 6ms/step - loss: 0.0029 - accuracy: 0.9990 - val_loss: 0.0536 - val_accuracy: 0.9913\n",
            "Epoch 186/300\n",
            "461/469 [============================>.] - ETA: 0s - loss: 0.0033 - accuracy: 0.9989\n",
            "Epoch 00186: loss did not improve from 0.00263\n",
            "469/469 [==============================] - 3s 6ms/step - loss: 0.0034 - accuracy: 0.9989 - val_loss: 0.0548 - val_accuracy: 0.9911\n",
            "Epoch 187/300\n",
            "465/469 [============================>.] - ETA: 0s - loss: 0.0034 - accuracy: 0.9990\n",
            "Epoch 00187: loss did not improve from 0.00263\n",
            "469/469 [==============================] - 3s 6ms/step - loss: 0.0034 - accuracy: 0.9990 - val_loss: 0.0551 - val_accuracy: 0.9911\n",
            "Epoch 188/300\n",
            "468/469 [============================>.] - ETA: 0s - loss: 0.0033 - accuracy: 0.9989\n",
            "Epoch 00188: loss did not improve from 0.00263\n",
            "469/469 [==============================] - 3s 6ms/step - loss: 0.0032 - accuracy: 0.9989 - val_loss: 0.0548 - val_accuracy: 0.9910\n",
            "Epoch 189/300\n",
            "462/469 [============================>.] - ETA: 0s - loss: 0.0031 - accuracy: 0.9990\n",
            "Epoch 00189: loss did not improve from 0.00263\n",
            "469/469 [==============================] - 3s 6ms/step - loss: 0.0031 - accuracy: 0.9990 - val_loss: 0.0550 - val_accuracy: 0.9909\n",
            "Epoch 190/300\n",
            "463/469 [============================>.] - ETA: 0s - loss: 0.0025 - accuracy: 0.9991\n",
            "Epoch 00190: loss improved from 0.00263 to 0.00249, saving model to MNIST_Model.iv3.hdf5\n",
            "469/469 [==============================] - 3s 6ms/step - loss: 0.0025 - accuracy: 0.9991 - val_loss: 0.0551 - val_accuracy: 0.9908\n",
            "Epoch 191/300\n",
            "462/469 [============================>.] - ETA: 0s - loss: 0.0023 - accuracy: 0.9992\n",
            "Epoch 00191: loss improved from 0.00249 to 0.00232, saving model to MNIST_Model.iv3.hdf5\n",
            "469/469 [==============================] - 3s 6ms/step - loss: 0.0023 - accuracy: 0.9992 - val_loss: 0.0562 - val_accuracy: 0.9909\n",
            "Epoch 192/300\n",
            "466/469 [============================>.] - ETA: 0s - loss: 0.0032 - accuracy: 0.9990\n",
            "Epoch 00192: loss did not improve from 0.00232\n",
            "469/469 [==============================] - 3s 6ms/step - loss: 0.0032 - accuracy: 0.9990 - val_loss: 0.0549 - val_accuracy: 0.9911\n",
            "Epoch 193/300\n",
            "463/469 [============================>.] - ETA: 0s - loss: 0.0032 - accuracy: 0.9988\n",
            "Epoch 00193: loss did not improve from 0.00232\n",
            "469/469 [==============================] - 3s 6ms/step - loss: 0.0032 - accuracy: 0.9988 - val_loss: 0.0546 - val_accuracy: 0.9908\n",
            "Epoch 194/300\n",
            "461/469 [============================>.] - ETA: 0s - loss: 0.0029 - accuracy: 0.9991\n",
            "Epoch 00194: loss did not improve from 0.00232\n",
            "469/469 [==============================] - 3s 6ms/step - loss: 0.0029 - accuracy: 0.9991 - val_loss: 0.0532 - val_accuracy: 0.9910\n",
            "Epoch 195/300\n",
            "460/469 [============================>.] - ETA: 0s - loss: 0.0026 - accuracy: 0.9991\n",
            "Epoch 00195: loss did not improve from 0.00232\n",
            "469/469 [==============================] - 3s 6ms/step - loss: 0.0027 - accuracy: 0.9991 - val_loss: 0.0549 - val_accuracy: 0.9910\n",
            "Epoch 196/300\n",
            "461/469 [============================>.] - ETA: 0s - loss: 0.0026 - accuracy: 0.9991\n",
            "Epoch 00196: loss did not improve from 0.00232\n",
            "469/469 [==============================] - 3s 6ms/step - loss: 0.0026 - accuracy: 0.9991 - val_loss: 0.0568 - val_accuracy: 0.9912\n",
            "Epoch 197/300\n",
            "469/469 [==============================] - ETA: 0s - loss: 0.0027 - accuracy: 0.9991\n",
            "Epoch 00197: loss did not improve from 0.00232\n",
            "469/469 [==============================] - 3s 6ms/step - loss: 0.0027 - accuracy: 0.9991 - val_loss: 0.0551 - val_accuracy: 0.9911\n",
            "Epoch 198/300\n",
            "465/469 [============================>.] - ETA: 0s - loss: 0.0028 - accuracy: 0.9989\n",
            "Epoch 00198: loss did not improve from 0.00232\n",
            "469/469 [==============================] - 3s 6ms/step - loss: 0.0028 - accuracy: 0.9990 - val_loss: 0.0562 - val_accuracy: 0.9910\n",
            "Epoch 199/300\n",
            "463/469 [============================>.] - ETA: 0s - loss: 0.0025 - accuracy: 0.9993\n",
            "Epoch 00199: loss did not improve from 0.00232\n",
            "469/469 [==============================] - 3s 6ms/step - loss: 0.0025 - accuracy: 0.9992 - val_loss: 0.0561 - val_accuracy: 0.9911\n",
            "Epoch 200/300\n",
            "463/469 [============================>.] - ETA: 0s - loss: 0.0031 - accuracy: 0.9991\n",
            "Epoch 00200: loss did not improve from 0.00232\n",
            "469/469 [==============================] - 3s 6ms/step - loss: 0.0031 - accuracy: 0.9991 - val_loss: 0.0549 - val_accuracy: 0.9911\n",
            "Epoch 201/300\n",
            "461/469 [============================>.] - ETA: 0s - loss: 0.0030 - accuracy: 0.9989\n",
            "Epoch 00201: loss did not improve from 0.00232\n",
            "469/469 [==============================] - 3s 6ms/step - loss: 0.0031 - accuracy: 0.9989 - val_loss: 0.0540 - val_accuracy: 0.9907\n",
            "Epoch 202/300\n",
            "462/469 [============================>.] - ETA: 0s - loss: 0.0029 - accuracy: 0.9989\n",
            "Epoch 00202: loss did not improve from 0.00232\n",
            "469/469 [==============================] - 3s 6ms/step - loss: 0.0029 - accuracy: 0.9989 - val_loss: 0.0546 - val_accuracy: 0.9908\n",
            "Epoch 203/300\n",
            "463/469 [============================>.] - ETA: 0s - loss: 0.0029 - accuracy: 0.9991\n",
            "Epoch 00203: loss did not improve from 0.00232\n",
            "469/469 [==============================] - 3s 6ms/step - loss: 0.0028 - accuracy: 0.9991 - val_loss: 0.0541 - val_accuracy: 0.9909\n",
            "Epoch 204/300\n",
            "467/469 [============================>.] - ETA: 0s - loss: 0.0028 - accuracy: 0.9991\n",
            "Epoch 00204: loss did not improve from 0.00232\n",
            "469/469 [==============================] - 3s 6ms/step - loss: 0.0028 - accuracy: 0.9991 - val_loss: 0.0541 - val_accuracy: 0.9912\n",
            "Epoch 205/300\n",
            "464/469 [============================>.] - ETA: 0s - loss: 0.0031 - accuracy: 0.9991\n",
            "Epoch 00205: loss did not improve from 0.00232\n",
            "469/469 [==============================] - 3s 6ms/step - loss: 0.0031 - accuracy: 0.9991 - val_loss: 0.0557 - val_accuracy: 0.9915\n",
            "Epoch 206/300\n",
            "464/469 [============================>.] - ETA: 0s - loss: 0.0031 - accuracy: 0.9990\n",
            "Epoch 00206: loss did not improve from 0.00232\n",
            "469/469 [==============================] - 3s 6ms/step - loss: 0.0031 - accuracy: 0.9990 - val_loss: 0.0548 - val_accuracy: 0.9916\n",
            "Epoch 207/300\n",
            "466/469 [============================>.] - ETA: 0s - loss: 0.0026 - accuracy: 0.9990\n",
            "Epoch 00207: loss did not improve from 0.00232\n",
            "469/469 [==============================] - 3s 6ms/step - loss: 0.0026 - accuracy: 0.9991 - val_loss: 0.0542 - val_accuracy: 0.9912\n",
            "Epoch 208/300\n",
            "465/469 [============================>.] - ETA: 0s - loss: 0.0031 - accuracy: 0.9989\n",
            "Epoch 00208: loss did not improve from 0.00232\n",
            "469/469 [==============================] - 3s 6ms/step - loss: 0.0031 - accuracy: 0.9989 - val_loss: 0.0536 - val_accuracy: 0.9913\n",
            "Epoch 209/300\n",
            "468/469 [============================>.] - ETA: 0s - loss: 0.0026 - accuracy: 0.9991\n",
            "Epoch 00209: loss did not improve from 0.00232\n",
            "469/469 [==============================] - 3s 6ms/step - loss: 0.0026 - accuracy: 0.9991 - val_loss: 0.0542 - val_accuracy: 0.9914\n",
            "Epoch 210/300\n",
            "466/469 [============================>.] - ETA: 0s - loss: 0.0028 - accuracy: 0.9990\n",
            "Epoch 00210: loss did not improve from 0.00232\n",
            "469/469 [==============================] - 3s 6ms/step - loss: 0.0028 - accuracy: 0.9990 - val_loss: 0.0546 - val_accuracy: 0.9912\n",
            "Epoch 211/300\n",
            "463/469 [============================>.] - ETA: 0s - loss: 0.0031 - accuracy: 0.9988\n",
            "Epoch 00211: loss did not improve from 0.00232\n",
            "469/469 [==============================] - 3s 6ms/step - loss: 0.0030 - accuracy: 0.9988 - val_loss: 0.0547 - val_accuracy: 0.9911\n",
            "Epoch 212/300\n",
            "466/469 [============================>.] - ETA: 0s - loss: 0.0032 - accuracy: 0.9990\n",
            "Epoch 00212: loss did not improve from 0.00232\n",
            "469/469 [==============================] - 3s 6ms/step - loss: 0.0031 - accuracy: 0.9990 - val_loss: 0.0551 - val_accuracy: 0.9908\n",
            "Epoch 213/300\n",
            "463/469 [============================>.] - ETA: 0s - loss: 0.0026 - accuracy: 0.9990\n",
            "Epoch 00213: loss did not improve from 0.00232\n",
            "469/469 [==============================] - 3s 6ms/step - loss: 0.0026 - accuracy: 0.9990 - val_loss: 0.0557 - val_accuracy: 0.9908\n",
            "Epoch 214/300\n",
            "466/469 [============================>.] - ETA: 0s - loss: 0.0030 - accuracy: 0.9990\n",
            "Epoch 00214: loss did not improve from 0.00232\n",
            "469/469 [==============================] - 3s 6ms/step - loss: 0.0030 - accuracy: 0.9990 - val_loss: 0.0543 - val_accuracy: 0.9910\n",
            "Epoch 215/300\n",
            "468/469 [============================>.] - ETA: 0s - loss: 0.0028 - accuracy: 0.9991\n",
            "Epoch 00215: loss did not improve from 0.00232\n",
            "469/469 [==============================] - 3s 6ms/step - loss: 0.0028 - accuracy: 0.9991 - val_loss: 0.0562 - val_accuracy: 0.9910\n",
            "Epoch 216/300\n",
            "463/469 [============================>.] - ETA: 0s - loss: 0.0021 - accuracy: 0.9993\n",
            "Epoch 00216: loss improved from 0.00232 to 0.00212, saving model to MNIST_Model.iv3.hdf5\n",
            "469/469 [==============================] - 3s 6ms/step - loss: 0.0021 - accuracy: 0.9993 - val_loss: 0.0572 - val_accuracy: 0.9907\n",
            "Epoch 217/300\n",
            "469/469 [==============================] - ETA: 0s - loss: 0.0028 - accuracy: 0.9990\n",
            "Epoch 00217: loss did not improve from 0.00212\n",
            "469/469 [==============================] - 3s 6ms/step - loss: 0.0028 - accuracy: 0.9990 - val_loss: 0.0552 - val_accuracy: 0.9910\n",
            "Epoch 218/300\n",
            "466/469 [============================>.] - ETA: 0s - loss: 0.0035 - accuracy: 0.9988\n",
            "Epoch 00218: loss did not improve from 0.00212\n",
            "469/469 [==============================] - 3s 6ms/step - loss: 0.0035 - accuracy: 0.9988 - val_loss: 0.0551 - val_accuracy: 0.9913\n",
            "Epoch 219/300\n",
            "468/469 [============================>.] - ETA: 0s - loss: 0.0029 - accuracy: 0.9991\n",
            "Epoch 00219: loss did not improve from 0.00212\n",
            "469/469 [==============================] - 3s 6ms/step - loss: 0.0029 - accuracy: 0.9991 - val_loss: 0.0543 - val_accuracy: 0.9909\n",
            "Epoch 220/300\n",
            "463/469 [============================>.] - ETA: 0s - loss: 0.0026 - accuracy: 0.9992\n",
            "Epoch 00220: loss did not improve from 0.00212\n",
            "469/469 [==============================] - 3s 6ms/step - loss: 0.0026 - accuracy: 0.9991 - val_loss: 0.0543 - val_accuracy: 0.9911\n",
            "Epoch 221/300\n",
            "464/469 [============================>.] - ETA: 0s - loss: 0.0026 - accuracy: 0.9992\n",
            "Epoch 00221: loss did not improve from 0.00212\n",
            "469/469 [==============================] - 3s 6ms/step - loss: 0.0026 - accuracy: 0.9992 - val_loss: 0.0546 - val_accuracy: 0.9909\n",
            "Epoch 222/300\n",
            "464/469 [============================>.] - ETA: 0s - loss: 0.0029 - accuracy: 0.9990\n",
            "Epoch 00222: loss did not improve from 0.00212\n",
            "469/469 [==============================] - 3s 6ms/step - loss: 0.0029 - accuracy: 0.9990 - val_loss: 0.0546 - val_accuracy: 0.9908\n",
            "Epoch 223/300\n",
            "461/469 [============================>.] - ETA: 0s - loss: 0.0025 - accuracy: 0.9991\n",
            "Epoch 00223: loss did not improve from 0.00212\n",
            "469/469 [==============================] - 3s 6ms/step - loss: 0.0024 - accuracy: 0.9991 - val_loss: 0.0548 - val_accuracy: 0.9911\n",
            "Epoch 224/300\n",
            "463/469 [============================>.] - ETA: 0s - loss: 0.0029 - accuracy: 0.9990\n",
            "Epoch 00224: loss did not improve from 0.00212\n",
            "469/469 [==============================] - 3s 6ms/step - loss: 0.0029 - accuracy: 0.9990 - val_loss: 0.0550 - val_accuracy: 0.9913\n",
            "Epoch 225/300\n",
            "469/469 [==============================] - ETA: 0s - loss: 0.0028 - accuracy: 0.9990\n",
            "Epoch 00225: loss did not improve from 0.00212\n",
            "469/469 [==============================] - 3s 6ms/step - loss: 0.0028 - accuracy: 0.9990 - val_loss: 0.0563 - val_accuracy: 0.9910\n",
            "Epoch 226/300\n",
            "467/469 [============================>.] - ETA: 0s - loss: 0.0024 - accuracy: 0.9993\n",
            "Epoch 00226: loss did not improve from 0.00212\n",
            "469/469 [==============================] - 3s 6ms/step - loss: 0.0024 - accuracy: 0.9994 - val_loss: 0.0558 - val_accuracy: 0.9912\n",
            "Epoch 227/300\n",
            "466/469 [============================>.] - ETA: 0s - loss: 0.0031 - accuracy: 0.9990\n",
            "Epoch 00227: loss did not improve from 0.00212\n",
            "469/469 [==============================] - 3s 6ms/step - loss: 0.0030 - accuracy: 0.9991 - val_loss: 0.0571 - val_accuracy: 0.9911\n",
            "Epoch 228/300\n",
            "463/469 [============================>.] - ETA: 0s - loss: 0.0030 - accuracy: 0.9990\n",
            "Epoch 00228: loss did not improve from 0.00212\n",
            "469/469 [==============================] - 3s 6ms/step - loss: 0.0031 - accuracy: 0.9989 - val_loss: 0.0541 - val_accuracy: 0.9910\n",
            "Epoch 229/300\n",
            "463/469 [============================>.] - ETA: 0s - loss: 0.0024 - accuracy: 0.9992\n",
            "Epoch 00229: loss did not improve from 0.00212\n",
            "469/469 [==============================] - 3s 6ms/step - loss: 0.0024 - accuracy: 0.9991 - val_loss: 0.0549 - val_accuracy: 0.9915\n",
            "Epoch 230/300\n",
            "466/469 [============================>.] - ETA: 0s - loss: 0.0029 - accuracy: 0.9990\n",
            "Epoch 00230: loss did not improve from 0.00212\n",
            "469/469 [==============================] - 3s 6ms/step - loss: 0.0029 - accuracy: 0.9990 - val_loss: 0.0545 - val_accuracy: 0.9914\n",
            "Epoch 231/300\n",
            "467/469 [============================>.] - ETA: 0s - loss: 0.0030 - accuracy: 0.9989\n",
            "Epoch 00231: loss did not improve from 0.00212\n",
            "469/469 [==============================] - 3s 6ms/step - loss: 0.0030 - accuracy: 0.9989 - val_loss: 0.0542 - val_accuracy: 0.9914\n",
            "Epoch 232/300\n",
            "462/469 [============================>.] - ETA: 0s - loss: 0.0026 - accuracy: 0.9992\n",
            "Epoch 00232: loss did not improve from 0.00212\n",
            "469/469 [==============================] - 3s 6ms/step - loss: 0.0026 - accuracy: 0.9992 - val_loss: 0.0556 - val_accuracy: 0.9911\n",
            "Epoch 233/300\n",
            "468/469 [============================>.] - ETA: 0s - loss: 0.0032 - accuracy: 0.9989\n",
            "Epoch 00233: loss did not improve from 0.00212\n",
            "469/469 [==============================] - 3s 6ms/step - loss: 0.0032 - accuracy: 0.9989 - val_loss: 0.0551 - val_accuracy: 0.9911\n",
            "Epoch 234/300\n",
            "463/469 [============================>.] - ETA: 0s - loss: 0.0030 - accuracy: 0.9991\n",
            "Epoch 00234: loss did not improve from 0.00212\n",
            "469/469 [==============================] - 3s 6ms/step - loss: 0.0030 - accuracy: 0.9991 - val_loss: 0.0547 - val_accuracy: 0.9909\n",
            "Epoch 235/300\n",
            "463/469 [============================>.] - ETA: 0s - loss: 0.0025 - accuracy: 0.9992\n",
            "Epoch 00235: loss did not improve from 0.00212\n",
            "469/469 [==============================] - 3s 6ms/step - loss: 0.0025 - accuracy: 0.9992 - val_loss: 0.0556 - val_accuracy: 0.9906\n",
            "Epoch 236/300\n",
            "466/469 [============================>.] - ETA: 0s - loss: 0.0024 - accuracy: 0.9993\n",
            "Epoch 00236: loss did not improve from 0.00212\n",
            "469/469 [==============================] - 3s 6ms/step - loss: 0.0024 - accuracy: 0.9993 - val_loss: 0.0570 - val_accuracy: 0.9909\n",
            "Epoch 237/300\n",
            "463/469 [============================>.] - ETA: 0s - loss: 0.0029 - accuracy: 0.9990\n",
            "Epoch 00237: loss did not improve from 0.00212\n",
            "469/469 [==============================] - 3s 6ms/step - loss: 0.0029 - accuracy: 0.9990 - val_loss: 0.0553 - val_accuracy: 0.9906\n",
            "Epoch 238/300\n",
            "467/469 [============================>.] - ETA: 0s - loss: 0.0025 - accuracy: 0.9993\n",
            "Epoch 00238: loss did not improve from 0.00212\n",
            "469/469 [==============================] - 3s 6ms/step - loss: 0.0025 - accuracy: 0.9993 - val_loss: 0.0566 - val_accuracy: 0.9908\n",
            "Epoch 239/300\n",
            "462/469 [============================>.] - ETA: 0s - loss: 0.0020 - accuracy: 0.9994\n",
            "Epoch 00239: loss improved from 0.00212 to 0.00200, saving model to MNIST_Model.iv3.hdf5\n",
            "469/469 [==============================] - 3s 6ms/step - loss: 0.0020 - accuracy: 0.9994 - val_loss: 0.0560 - val_accuracy: 0.9908\n",
            "Epoch 240/300\n",
            "464/469 [============================>.] - ETA: 0s - loss: 0.0028 - accuracy: 0.9992\n",
            "Epoch 00240: loss did not improve from 0.00200\n",
            "469/469 [==============================] - 3s 6ms/step - loss: 0.0028 - accuracy: 0.9992 - val_loss: 0.0560 - val_accuracy: 0.9908\n",
            "Epoch 241/300\n",
            "460/469 [============================>.] - ETA: 0s - loss: 0.0033 - accuracy: 0.9988\n",
            "Epoch 00241: loss did not improve from 0.00200\n",
            "469/469 [==============================] - 3s 6ms/step - loss: 0.0033 - accuracy: 0.9988 - val_loss: 0.0544 - val_accuracy: 0.9911\n",
            "Epoch 242/300\n",
            "463/469 [============================>.] - ETA: 0s - loss: 0.0032 - accuracy: 0.9989\n",
            "Epoch 00242: loss did not improve from 0.00200\n",
            "469/469 [==============================] - 3s 6ms/step - loss: 0.0032 - accuracy: 0.9988 - val_loss: 0.0544 - val_accuracy: 0.9910\n",
            "Epoch 243/300\n",
            "464/469 [============================>.] - ETA: 0s - loss: 0.0024 - accuracy: 0.9992\n",
            "Epoch 00243: loss did not improve from 0.00200\n",
            "469/469 [==============================] - 3s 6ms/step - loss: 0.0023 - accuracy: 0.9992 - val_loss: 0.0552 - val_accuracy: 0.9906\n",
            "Epoch 244/300\n",
            "466/469 [============================>.] - ETA: 0s - loss: 0.0031 - accuracy: 0.9990\n",
            "Epoch 00244: loss did not improve from 0.00200\n",
            "469/469 [==============================] - 3s 6ms/step - loss: 0.0031 - accuracy: 0.9990 - val_loss: 0.0548 - val_accuracy: 0.9907\n",
            "Epoch 245/300\n",
            "461/469 [============================>.] - ETA: 0s - loss: 0.0027 - accuracy: 0.9991\n",
            "Epoch 00245: loss did not improve from 0.00200\n",
            "469/469 [==============================] - 3s 6ms/step - loss: 0.0027 - accuracy: 0.9991 - val_loss: 0.0563 - val_accuracy: 0.9906\n",
            "Epoch 246/300\n",
            "465/469 [============================>.] - ETA: 0s - loss: 0.0027 - accuracy: 0.9991\n",
            "Epoch 00246: loss did not improve from 0.00200\n",
            "469/469 [==============================] - 3s 6ms/step - loss: 0.0027 - accuracy: 0.9991 - val_loss: 0.0565 - val_accuracy: 0.9906\n",
            "Epoch 247/300\n",
            "462/469 [============================>.] - ETA: 0s - loss: 0.0028 - accuracy: 0.9992\n",
            "Epoch 00247: loss did not improve from 0.00200\n",
            "469/469 [==============================] - 3s 6ms/step - loss: 0.0028 - accuracy: 0.9992 - val_loss: 0.0564 - val_accuracy: 0.9911\n",
            "Epoch 248/300\n",
            "468/469 [============================>.] - ETA: 0s - loss: 0.0029 - accuracy: 0.9990\n",
            "Epoch 00248: loss did not improve from 0.00200\n",
            "469/469 [==============================] - 3s 6ms/step - loss: 0.0029 - accuracy: 0.9990 - val_loss: 0.0564 - val_accuracy: 0.9914\n",
            "Epoch 249/300\n",
            "467/469 [============================>.] - ETA: 0s - loss: 0.0028 - accuracy: 0.9991\n",
            "Epoch 00249: loss did not improve from 0.00200\n",
            "469/469 [==============================] - 3s 6ms/step - loss: 0.0028 - accuracy: 0.9991 - val_loss: 0.0550 - val_accuracy: 0.9914\n",
            "Epoch 250/300\n",
            "465/469 [============================>.] - ETA: 0s - loss: 0.0027 - accuracy: 0.9990\n",
            "Epoch 00250: loss did not improve from 0.00200\n",
            "469/469 [==============================] - 3s 6ms/step - loss: 0.0027 - accuracy: 0.9990 - val_loss: 0.0533 - val_accuracy: 0.9914\n",
            "Epoch 251/300\n",
            "468/469 [============================>.] - ETA: 0s - loss: 0.0026 - accuracy: 0.9991\n",
            "Epoch 00251: loss did not improve from 0.00200\n",
            "469/469 [==============================] - 3s 6ms/step - loss: 0.0026 - accuracy: 0.9991 - val_loss: 0.0544 - val_accuracy: 0.9911\n",
            "Epoch 252/300\n",
            "465/469 [============================>.] - ETA: 0s - loss: 0.0027 - accuracy: 0.9992\n",
            "Epoch 00252: loss did not improve from 0.00200\n",
            "469/469 [==============================] - 3s 6ms/step - loss: 0.0027 - accuracy: 0.9992 - val_loss: 0.0544 - val_accuracy: 0.9912\n",
            "Epoch 253/300\n",
            "469/469 [==============================] - ETA: 0s - loss: 0.0023 - accuracy: 0.9993\n",
            "Epoch 00253: loss did not improve from 0.00200\n",
            "469/469 [==============================] - 3s 6ms/step - loss: 0.0023 - accuracy: 0.9993 - val_loss: 0.0557 - val_accuracy: 0.9909\n",
            "Epoch 254/300\n",
            "464/469 [============================>.] - ETA: 0s - loss: 0.0026 - accuracy: 0.9990\n",
            "Epoch 00254: loss did not improve from 0.00200\n",
            "469/469 [==============================] - 3s 6ms/step - loss: 0.0026 - accuracy: 0.9990 - val_loss: 0.0564 - val_accuracy: 0.9913\n",
            "Epoch 255/300\n",
            "465/469 [============================>.] - ETA: 0s - loss: 0.0027 - accuracy: 0.9991\n",
            "Epoch 00255: loss did not improve from 0.00200\n",
            "469/469 [==============================] - 3s 6ms/step - loss: 0.0027 - accuracy: 0.9991 - val_loss: 0.0566 - val_accuracy: 0.9913\n",
            "Epoch 256/300\n",
            "464/469 [============================>.] - ETA: 0s - loss: 0.0026 - accuracy: 0.9991\n",
            "Epoch 00256: loss did not improve from 0.00200\n",
            "469/469 [==============================] - 3s 6ms/step - loss: 0.0026 - accuracy: 0.9991 - val_loss: 0.0561 - val_accuracy: 0.9910\n",
            "Epoch 257/300\n",
            "461/469 [============================>.] - ETA: 0s - loss: 0.0027 - accuracy: 0.9992\n",
            "Epoch 00257: loss did not improve from 0.00200\n",
            "469/469 [==============================] - 3s 6ms/step - loss: 0.0027 - accuracy: 0.9992 - val_loss: 0.0552 - val_accuracy: 0.9914\n",
            "Epoch 258/300\n",
            "468/469 [============================>.] - ETA: 0s - loss: 0.0027 - accuracy: 0.9991\n",
            "Epoch 00258: loss did not improve from 0.00200\n",
            "469/469 [==============================] - 3s 6ms/step - loss: 0.0027 - accuracy: 0.9991 - val_loss: 0.0569 - val_accuracy: 0.9910\n",
            "Epoch 259/300\n",
            "460/469 [============================>.] - ETA: 0s - loss: 0.0024 - accuracy: 0.9993\n",
            "Epoch 00259: loss did not improve from 0.00200\n",
            "469/469 [==============================] - 3s 6ms/step - loss: 0.0023 - accuracy: 0.9993 - val_loss: 0.0576 - val_accuracy: 0.9913\n",
            "Epoch 260/300\n",
            "467/469 [============================>.] - ETA: 0s - loss: 0.0029 - accuracy: 0.9990\n",
            "Epoch 00260: loss did not improve from 0.00200\n",
            "469/469 [==============================] - 3s 6ms/step - loss: 0.0029 - accuracy: 0.9990 - val_loss: 0.0562 - val_accuracy: 0.9914\n",
            "Epoch 261/300\n",
            "459/469 [============================>.] - ETA: 0s - loss: 0.0027 - accuracy: 0.9990\n",
            "Epoch 00261: loss did not improve from 0.00200\n",
            "469/469 [==============================] - 3s 6ms/step - loss: 0.0027 - accuracy: 0.9990 - val_loss: 0.0569 - val_accuracy: 0.9911\n",
            "Epoch 262/300\n",
            "462/469 [============================>.] - ETA: 0s - loss: 0.0024 - accuracy: 0.9992\n",
            "Epoch 00262: loss did not improve from 0.00200\n",
            "469/469 [==============================] - 3s 6ms/step - loss: 0.0024 - accuracy: 0.9991 - val_loss: 0.0581 - val_accuracy: 0.9907\n",
            "Epoch 263/300\n",
            "460/469 [============================>.] - ETA: 0s - loss: 0.0026 - accuracy: 0.9992\n",
            "Epoch 00263: loss did not improve from 0.00200\n",
            "469/469 [==============================] - 3s 6ms/step - loss: 0.0026 - accuracy: 0.9992 - val_loss: 0.0565 - val_accuracy: 0.9910\n",
            "Epoch 264/300\n",
            "463/469 [============================>.] - ETA: 0s - loss: 0.0026 - accuracy: 0.9991\n",
            "Epoch 00264: loss did not improve from 0.00200\n",
            "469/469 [==============================] - 3s 6ms/step - loss: 0.0027 - accuracy: 0.9990 - val_loss: 0.0569 - val_accuracy: 0.9910\n",
            "Epoch 265/300\n",
            "469/469 [==============================] - ETA: 0s - loss: 0.0027 - accuracy: 0.9991\n",
            "Epoch 00265: loss did not improve from 0.00200\n",
            "469/469 [==============================] - 3s 6ms/step - loss: 0.0027 - accuracy: 0.9991 - val_loss: 0.0574 - val_accuracy: 0.9909\n",
            "Epoch 266/300\n",
            "462/469 [============================>.] - ETA: 0s - loss: 0.0022 - accuracy: 0.9992\n",
            "Epoch 00266: loss did not improve from 0.00200\n",
            "469/469 [==============================] - 3s 6ms/step - loss: 0.0022 - accuracy: 0.9992 - val_loss: 0.0580 - val_accuracy: 0.9911\n",
            "Epoch 267/300\n",
            "463/469 [============================>.] - ETA: 0s - loss: 0.0023 - accuracy: 0.9992\n",
            "Epoch 00267: loss did not improve from 0.00200\n",
            "469/469 [==============================] - 3s 6ms/step - loss: 0.0023 - accuracy: 0.9992 - val_loss: 0.0580 - val_accuracy: 0.9909\n",
            "Epoch 268/300\n",
            "462/469 [============================>.] - ETA: 0s - loss: 0.0024 - accuracy: 0.9991\n",
            "Epoch 00268: loss did not improve from 0.00200\n",
            "469/469 [==============================] - 3s 6ms/step - loss: 0.0024 - accuracy: 0.9991 - val_loss: 0.0577 - val_accuracy: 0.9908\n",
            "Epoch 269/300\n",
            "468/469 [============================>.] - ETA: 0s - loss: 0.0024 - accuracy: 0.9992\n",
            "Epoch 00269: loss did not improve from 0.00200\n",
            "469/469 [==============================] - 3s 6ms/step - loss: 0.0024 - accuracy: 0.9992 - val_loss: 0.0582 - val_accuracy: 0.9909\n"
          ],
          "name": "stdout"
        },
        {
          "output_type": "execute_result",
          "data": {
            "text/plain": [
              "<tensorflow.python.keras.callbacks.History at 0x7f5b826196a0>"
            ]
          },
          "metadata": {
            "tags": []
          },
          "execution_count": 28
        }
      ]
    },
    {
      "cell_type": "markdown",
      "metadata": {
        "id": "zkd-bsKL3Jzi"
      },
      "source": [
        "Com a rede treinada, vamos usar o dataset de testes para extrair os dados para análise quantitativa da performance da rede"
      ]
    },
    {
      "cell_type": "code",
      "metadata": {
        "id": "c-Nl_yxx3JlR",
        "outputId": "22ffc2e7-6598-46ab-d9e3-4733340a50c9",
        "colab": {
          "base_uri": "https://localhost:8080/",
          "height": 51
        }
      },
      "source": [
        "result = cnn.evaluate(test_dataset, test_classes)\n",
        "print ('Accuracy = ' + str(result[1] * 100) + \"%\")"
      ],
      "execution_count": 29,
      "outputs": [
        {
          "output_type": "stream",
          "text": [
            "313/313 [==============================] - 1s 2ms/step - loss: 0.0582 - accuracy: 0.9909\n",
            "Accuracy = 99.08999800682068%\n"
          ],
          "name": "stdout"
        }
      ]
    },
    {
      "cell_type": "markdown",
      "metadata": {
        "id": "lFaUEbFZt5h9"
      },
      "source": [
        "# Analise da qualidade do modelo"
      ]
    },
    {
      "cell_type": "code",
      "metadata": {
        "id": "eWWJW6got8yi",
        "outputId": "f63e6fce-8094-469e-bd0b-62c62fcebb70",
        "colab": {
          "base_uri": "https://localhost:8080/",
          "height": 912
        }
      },
      "source": [
        "# Confusion Matrix stuff\n",
        "from sklearn.metrics import confusion_matrix, classification_report, accuracy_score\n",
        "import matplotlib.pyplot as plt\n",
        "import numpy as np\n",
        "import seaborn as sns\n",
        "\n",
        "fig = plt.figure(figsize=(10, 10)) # Set Figure\n",
        "\n",
        "y_pred = cnn.predict(test_dataset)\n",
        "\n",
        "Y_pred = np.argmax(y_pred, 1) # Decode Predicted labels\n",
        "Y_test = np.argmax(test_classes, 1) # Decode labels\n",
        "\n",
        "mat = confusion_matrix(Y_test, Y_pred) # Confusion matrix\n",
        "\n",
        "# Plot Confusion matrix\n",
        "sns.heatmap(mat.T, square=True, annot=True, cbar=False, cmap=plt.cm.Blues)\n",
        "plt.xlabel('Predicted Values')\n",
        "plt.ylabel('True Values');\n",
        "plt.show();\n",
        "\n",
        "print(\"Accuracy {0:.2f}%\".format(100*accuracy_score(Y_pred, Y_test)))\n",
        "\n",
        "print(classification_report(Y_test, Y_pred))"
      ],
      "execution_count": 30,
      "outputs": [
        {
          "output_type": "display_data",
          "data": {
            "image/png": "[encoded data removed]",
            "text/plain": [
              "<Figure size 720x720 with 1 Axes>"
            ]
          },
          "metadata": {
            "tags": [],
            "needs_background": "light"
          }
        },
        {
          "output_type": "stream",
          "text": [
            "Accuracy 99.09%\n",
            "              precision    recall  f1-score   support\n",
            "\n",
            "           0       0.99      1.00      0.99       980\n",
            "           1       0.99      1.00      1.00      1135\n",
            "           2       0.99      0.99      0.99      1032\n",
            "           3       0.99      1.00      0.99      1010\n",
            "           4       0.99      0.99      0.99       982\n",
            "           5       0.99      0.99      0.99       892\n",
            "           6       0.99      0.99      0.99       958\n",
            "           7       0.99      0.99      0.99      1028\n",
            "           8       0.99      0.99      0.99       974\n",
            "           9       0.99      0.98      0.99      1009\n",
            "\n",
            "    accuracy                           0.99     10000\n",
            "   macro avg       0.99      0.99      0.99     10000\n",
            "weighted avg       0.99      0.99      0.99     10000\n",
            "\n"
          ],
          "name": "stdout"
        }
      ]
    }
  ]
}